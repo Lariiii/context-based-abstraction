{
 "cells": [
  {
   "cell_type": "code",
   "execution_count": 1,
   "metadata": {},
   "outputs": [],
   "source": [
    "from pm4py.objects.log.importer.xes import factory as xes_import_factory\n",
    "from pm4py.algo.filtering.log.attributes import attributes_filter\n",
    "\n",
    "import numpy as np\n",
    "import pandas as pd"
   ]
  },
  {
   "cell_type": "code",
   "execution_count": 3,
   "metadata": {},
   "outputs": [
    {
     "name": "stderr",
     "output_type": "stream",
     "text": [
      "/usr/local/lib/python3.5/dist-packages/ipykernel_launcher.py:1: DeprecatedWarning: apply is deprecated as of 1.3.0 and will be removed in 2.0.0. Use importer entrypoint instead\n",
      "  \"\"\"Entry point for launching an IPython kernel.\n"
     ]
    }
   ],
   "source": [
    "log = xes_import_factory.apply(\"data/DomesticDeclarations.xes\")"
   ]
  },
  {
   "cell_type": "code",
   "execution_count": 4,
   "metadata": {},
   "outputs": [
    {
     "data": {
      "text/plain": [
       "[{'attributes': {'Amount': 26.85120450862128, 'id': 'declaration 86791', 'BudgetNumber': 'budget 86566', 'DeclarationNumber': 'declaration number 86792', 'concept:name': 'declaration 86791'}, 'events': [{'time:timestamp': datetime.datetime(2017, 1, 9, 9, 49, 50, tzinfo=datetime.timezone(datetime.timedelta(0, 3600))), 'id': 'st_step 86794_0', 'org:role': 'EMPLOYEE', 'concept:name': 'Declaration SUBMITTED by EMPLOYEE', 'org:resource': 'STAFF MEMBER'}, '..', {'time:timestamp': datetime.datetime(2017, 1, 12, 17, 31, 22, tzinfo=datetime.timezone(datetime.timedelta(0, 3600))), 'id': 'dd_declaration 86791_20', 'org:role': 'UNDEFINED', 'concept:name': 'Payment Handled', 'org:resource': 'SYSTEM'}]}, '....', {'attributes': {'Amount': 190.40457573396148, 'id': 'declaration 138359', 'BudgetNumber': 'budget 86566', 'DeclarationNumber': 'declaration number 138360', 'concept:name': 'declaration 138359'}, 'events': [{'time:timestamp': datetime.datetime(2018, 12, 29, 17, 50, 14, tzinfo=datetime.timezone(datetime.timedelta(0, 3600))), 'id': 'st_step 138363_0', 'org:role': 'EMPLOYEE', 'concept:name': 'Declaration SUBMITTED by EMPLOYEE', 'org:resource': 'STAFF MEMBER'}, '..', {'time:timestamp': datetime.datetime(2019, 1, 10, 17, 31, 8, tzinfo=datetime.timezone(datetime.timedelta(0, 3600))), 'id': 'dd_declaration 138359_20', 'org:role': 'UNDEFINED', 'concept:name': 'Payment Handled', 'org:resource': 'SYSTEM'}]}]"
      ]
     },
     "execution_count": 4,
     "metadata": {},
     "output_type": "execute_result"
    }
   ],
   "source": [
    "log"
   ]
  },
  {
   "cell_type": "code",
   "execution_count": 5,
   "metadata": {},
   "outputs": [
    {
     "name": "stdout",
     "output_type": "stream",
     "text": [
      "[['start', {'time:timestamp': datetime.datetime(2017, 1, 9, 9, 49, 50, tzinfo=datetime.timezone(datetime.timedelta(0, 3600))), 'id': 'st_step 86794_0', 'org:role': 'EMPLOYEE', 'concept:name': 'Declaration SUBMITTED by EMPLOYEE', 'org:resource': 'STAFF MEMBER'}, {'time:timestamp': datetime.datetime(2017, 1, 9, 11, 27, 48, tzinfo=datetime.timezone(datetime.timedelta(0, 3600))), 'id': 'st_step 86793_0', 'org:role': 'SUPERVISOR', 'concept:name': 'Declaration FINAL_APPROVED by SUPERVISOR', 'org:resource': 'STAFF MEMBER'}, {'time:timestamp': datetime.datetime(2017, 1, 10, 9, 34, 44, tzinfo=datetime.timezone(datetime.timedelta(0, 3600))), 'id': 'dd_declaration 86791_19', 'org:role': 'UNDEFINED', 'concept:name': 'Request Payment', 'org:resource': 'SYSTEM'}, {'time:timestamp': datetime.datetime(2017, 1, 12, 17, 31, 22, tzinfo=datetime.timezone(datetime.timedelta(0, 3600))), 'id': 'dd_declaration 86791_20', 'org:role': 'UNDEFINED', 'concept:name': 'Payment Handled', 'org:resource': 'SYSTEM'}, 'end']]\n"
     ]
    }
   ],
   "source": [
    "sequences = list()\n",
    "for i in log:\n",
    "    sequence = list()\n",
    "    sequence.append('start')\n",
    "    for j in i:\n",
    "        sequence.append(j)\n",
    "    sequence.append(\"end\")\n",
    "    \n",
    "    sequences.append(sequence)\n",
    "    \n",
    "print(sequences[:1])"
   ]
  },
  {
   "cell_type": "code",
   "execution_count": 8,
   "metadata": {},
   "outputs": [],
   "source": [
    "data = {'id': [], 'concept:name': [], 'org:role': [], 'org:resource': [], 'time:timestamp':  [], 'previous': [], 'next': []}\n",
    "df_list = list()\n",
    "\n",
    "for seq in sequences:\n",
    "    dataframe = pd.DataFrame(data)\n",
    "    # iterate through sequence and extract all previous and current fields\n",
    "    for previous, current in zip(seq, seq[1:]):\n",
    "        new_row = dict()\n",
    "        if previous == \"start\" and current != \"end\":\n",
    "            new_row['previous'] = \"start\"\n",
    "        elif current != \"end\":\n",
    "            new_row['previous'] = previous['concept:name']\n",
    "        if current != \"start\" and current != \"end\":\n",
    "            for field in current:\n",
    "                new_row[field] = current[field]\n",
    "        dataframe = dataframe.append(new_row, ignore_index=True)\n",
    "    # iterate through sequence and extract all next values\n",
    "    next_values = list()\n",
    "    for curr, nex in zip(seq, seq[1:]):\n",
    "        if curr != \"end\":\n",
    "            if nex == \"end\":\n",
    "                next_values.append(nex)\n",
    "            else:\n",
    "                next_values.append(nex['concept:name'])\n",
    "    # add a NaN value to the end of the list, so that the second element is the first next element\n",
    "    next_values.append(np.nan)\n",
    "    dataframe['next'] = next_values[1:]\n",
    "    # drop rows that only contain NaN\n",
    "    dataframe = dataframe.dropna()\n",
    "    df_list.append(dataframe)\n"
   ]
  },
  {
   "cell_type": "code",
   "execution_count": 9,
   "metadata": {},
   "outputs": [
    {
     "data": {
      "text/html": [
       "<div>\n",
       "<style scoped>\n",
       "    .dataframe tbody tr th:only-of-type {\n",
       "        vertical-align: middle;\n",
       "    }\n",
       "\n",
       "    .dataframe tbody tr th {\n",
       "        vertical-align: top;\n",
       "    }\n",
       "\n",
       "    .dataframe thead th {\n",
       "        text-align: right;\n",
       "    }\n",
       "</style>\n",
       "<table border=\"1\" class=\"dataframe\">\n",
       "  <thead>\n",
       "    <tr style=\"text-align: right;\">\n",
       "      <th></th>\n",
       "      <th>concept:name</th>\n",
       "      <th>id</th>\n",
       "      <th>next</th>\n",
       "      <th>org:resource</th>\n",
       "      <th>org:role</th>\n",
       "      <th>previous</th>\n",
       "      <th>time:timestamp</th>\n",
       "    </tr>\n",
       "  </thead>\n",
       "  <tbody>\n",
       "    <tr>\n",
       "      <th>0</th>\n",
       "      <td>Declaration SUBMITTED by EMPLOYEE</td>\n",
       "      <td>st_step 86794_0</td>\n",
       "      <td>Declaration FINAL_APPROVED by SUPERVISOR</td>\n",
       "      <td>STAFF MEMBER</td>\n",
       "      <td>EMPLOYEE</td>\n",
       "      <td>start</td>\n",
       "      <td>2017-01-09 09:49:50+01:00</td>\n",
       "    </tr>\n",
       "    <tr>\n",
       "      <th>1</th>\n",
       "      <td>Declaration FINAL_APPROVED by SUPERVISOR</td>\n",
       "      <td>st_step 86793_0</td>\n",
       "      <td>Request Payment</td>\n",
       "      <td>STAFF MEMBER</td>\n",
       "      <td>SUPERVISOR</td>\n",
       "      <td>Declaration SUBMITTED by EMPLOYEE</td>\n",
       "      <td>2017-01-09 11:27:48+01:00</td>\n",
       "    </tr>\n",
       "    <tr>\n",
       "      <th>2</th>\n",
       "      <td>Request Payment</td>\n",
       "      <td>dd_declaration 86791_19</td>\n",
       "      <td>Payment Handled</td>\n",
       "      <td>SYSTEM</td>\n",
       "      <td>UNDEFINED</td>\n",
       "      <td>Declaration FINAL_APPROVED by SUPERVISOR</td>\n",
       "      <td>2017-01-10 09:34:44+01:00</td>\n",
       "    </tr>\n",
       "    <tr>\n",
       "      <th>3</th>\n",
       "      <td>Payment Handled</td>\n",
       "      <td>dd_declaration 86791_20</td>\n",
       "      <td>end</td>\n",
       "      <td>SYSTEM</td>\n",
       "      <td>UNDEFINED</td>\n",
       "      <td>Request Payment</td>\n",
       "      <td>2017-01-12 17:31:22+01:00</td>\n",
       "    </tr>\n",
       "    <tr>\n",
       "      <th>4</th>\n",
       "      <td>Declaration SUBMITTED by EMPLOYEE</td>\n",
       "      <td>st_step 86798_0</td>\n",
       "      <td>Declaration APPROVED by PRE_APPROVER</td>\n",
       "      <td>STAFF MEMBER</td>\n",
       "      <td>EMPLOYEE</td>\n",
       "      <td>start</td>\n",
       "      <td>2017-01-09 10:26:14+01:00</td>\n",
       "    </tr>\n",
       "    <tr>\n",
       "      <th>5</th>\n",
       "      <td>Declaration APPROVED by PRE_APPROVER</td>\n",
       "      <td>st_step 86799_0</td>\n",
       "      <td>Declaration FINAL_APPROVED by SUPERVISOR</td>\n",
       "      <td>STAFF MEMBER</td>\n",
       "      <td>PRE_APPROVER</td>\n",
       "      <td>Declaration SUBMITTED by EMPLOYEE</td>\n",
       "      <td>2017-02-22 10:29:21+01:00</td>\n",
       "    </tr>\n",
       "    <tr>\n",
       "      <th>6</th>\n",
       "      <td>Declaration FINAL_APPROVED by SUPERVISOR</td>\n",
       "      <td>st_step 86797_0</td>\n",
       "      <td>Request Payment</td>\n",
       "      <td>STAFF MEMBER</td>\n",
       "      <td>SUPERVISOR</td>\n",
       "      <td>Declaration APPROVED by PRE_APPROVER</td>\n",
       "      <td>2017-02-23 08:14:45+01:00</td>\n",
       "    </tr>\n",
       "    <tr>\n",
       "      <th>7</th>\n",
       "      <td>Request Payment</td>\n",
       "      <td>dd_declaration 86795_19</td>\n",
       "      <td>Payment Handled</td>\n",
       "      <td>SYSTEM</td>\n",
       "      <td>UNDEFINED</td>\n",
       "      <td>Declaration FINAL_APPROVED by SUPERVISOR</td>\n",
       "      <td>2017-03-06 14:07:25+01:00</td>\n",
       "    </tr>\n",
       "    <tr>\n",
       "      <th>8</th>\n",
       "      <td>Payment Handled</td>\n",
       "      <td>dd_declaration 86795_20</td>\n",
       "      <td>end</td>\n",
       "      <td>SYSTEM</td>\n",
       "      <td>UNDEFINED</td>\n",
       "      <td>Request Payment</td>\n",
       "      <td>2017-03-13 17:30:59+01:00</td>\n",
       "    </tr>\n",
       "    <tr>\n",
       "      <th>9</th>\n",
       "      <td>Declaration SUBMITTED by EMPLOYEE</td>\n",
       "      <td>st_step 86804_0</td>\n",
       "      <td>Declaration APPROVED by PRE_APPROVER</td>\n",
       "      <td>STAFF MEMBER</td>\n",
       "      <td>EMPLOYEE</td>\n",
       "      <td>start</td>\n",
       "      <td>2017-01-09 11:13:33+01:00</td>\n",
       "    </tr>\n",
       "  </tbody>\n",
       "</table>\n",
       "</div>"
      ],
      "text/plain": [
       "                               concept:name                       id  \\\n",
       "0         Declaration SUBMITTED by EMPLOYEE          st_step 86794_0   \n",
       "1  Declaration FINAL_APPROVED by SUPERVISOR          st_step 86793_0   \n",
       "2                           Request Payment  dd_declaration 86791_19   \n",
       "3                           Payment Handled  dd_declaration 86791_20   \n",
       "4         Declaration SUBMITTED by EMPLOYEE          st_step 86798_0   \n",
       "5      Declaration APPROVED by PRE_APPROVER          st_step 86799_0   \n",
       "6  Declaration FINAL_APPROVED by SUPERVISOR          st_step 86797_0   \n",
       "7                           Request Payment  dd_declaration 86795_19   \n",
       "8                           Payment Handled  dd_declaration 86795_20   \n",
       "9         Declaration SUBMITTED by EMPLOYEE          st_step 86804_0   \n",
       "\n",
       "                                       next  org:resource      org:role  \\\n",
       "0  Declaration FINAL_APPROVED by SUPERVISOR  STAFF MEMBER      EMPLOYEE   \n",
       "1                           Request Payment  STAFF MEMBER    SUPERVISOR   \n",
       "2                           Payment Handled        SYSTEM     UNDEFINED   \n",
       "3                                       end        SYSTEM     UNDEFINED   \n",
       "4      Declaration APPROVED by PRE_APPROVER  STAFF MEMBER      EMPLOYEE   \n",
       "5  Declaration FINAL_APPROVED by SUPERVISOR  STAFF MEMBER  PRE_APPROVER   \n",
       "6                           Request Payment  STAFF MEMBER    SUPERVISOR   \n",
       "7                           Payment Handled        SYSTEM     UNDEFINED   \n",
       "8                                       end        SYSTEM     UNDEFINED   \n",
       "9      Declaration APPROVED by PRE_APPROVER  STAFF MEMBER      EMPLOYEE   \n",
       "\n",
       "                                   previous             time:timestamp  \n",
       "0                                     start  2017-01-09 09:49:50+01:00  \n",
       "1         Declaration SUBMITTED by EMPLOYEE  2017-01-09 11:27:48+01:00  \n",
       "2  Declaration FINAL_APPROVED by SUPERVISOR  2017-01-10 09:34:44+01:00  \n",
       "3                           Request Payment  2017-01-12 17:31:22+01:00  \n",
       "4                                     start  2017-01-09 10:26:14+01:00  \n",
       "5         Declaration SUBMITTED by EMPLOYEE  2017-02-22 10:29:21+01:00  \n",
       "6      Declaration APPROVED by PRE_APPROVER  2017-02-23 08:14:45+01:00  \n",
       "7  Declaration FINAL_APPROVED by SUPERVISOR  2017-03-06 14:07:25+01:00  \n",
       "8                           Request Payment  2017-03-13 17:30:59+01:00  \n",
       "9                                     start  2017-01-09 11:13:33+01:00  "
      ]
     },
     "execution_count": 9,
     "metadata": {},
     "output_type": "execute_result"
    }
   ],
   "source": [
    "all_df = pd.concat(df_list, ignore_index = True)\n",
    "all_df[:10]"
   ]
  },
  {
   "cell_type": "code",
   "execution_count": null,
   "metadata": {
    "scrolled": true
   },
   "outputs": [],
   "source": [
    "s = sequences[:1]\n",
    "for i in s:\n",
    "    print(i)\n",
    "    for previous, current in zip(i, i[1:]):\n",
    "        print(\"PREVIOUS \", previous, current)\n",
    "    for current2, next2 in zip(i, i[1:]):\n",
    "        print(\"NEXT \", current2, next2)"
   ]
  },
  {
   "cell_type": "code",
   "execution_count": 11,
   "metadata": {},
   "outputs": [
    {
     "name": "stdout",
     "output_type": "stream",
     "text": [
      "<class 'dict'>\n"
     ]
    }
   ],
   "source": [
    "data = {'id': [], 'concept:name': [], 'org:role': [], 'org:resource': [], 'time:timestamp':  [], 'previous': [], 'next': []}\n",
    "print(type(data))"
   ]
  },
  {
   "cell_type": "code",
   "execution_count": null,
   "metadata": {},
   "outputs": [],
   "source": []
  }
 ],
 "metadata": {
  "kernelspec": {
   "display_name": "Python 3",
   "language": "python",
   "name": "python3"
  },
  "language_info": {
   "codemirror_mode": {
    "name": "ipython",
    "version": 3
   },
   "file_extension": ".py",
   "mimetype": "text/x-python",
   "name": "python",
   "nbconvert_exporter": "python",
   "pygments_lexer": "ipython3",
   "version": "3.5.2"
  }
 },
 "nbformat": 4,
 "nbformat_minor": 2
}
