{
 "cells": [
  {
   "cell_type": "code",
   "execution_count": null,
   "metadata": {},
   "outputs": [],
   "source": [
    "import matplotlib.pyplot as plt\n",
    "import numpy as np"
   ]
  },
  {
   "cell_type": "code",
   "execution_count": null,
   "metadata": {},
   "outputs": [],
   "source": [
    "# BPIC20 - Silhouette Coefficient/Completeness Score Run 1 6 Clusters\n",
    "\n",
    "km_comp_1_6 = [0.9952168884696633, 0.9482034502608636, 0.9945187503711399, 0.7226844675546615, 0.9868126329763642, 0.6658741856904011, 0.9177103434707621, 0.7815259834458768, 0.6612272757457018, 0.9033316230112258]\n",
    "km_silhouette_1_6 = [0.9238737704290397, 0.8664782006099637, 0.8900991116871868, 0.4787523965821285, 0.5770384528162085, 0.5494167790584998, 0.6251793103928536, 0.582453681708452, 0.389553186348755, 0.43348399563948]   \n",
    "\n",
    "ind = np.arange(len(km_silhouette_1_6))  # the x locations for the groups\n",
    "width = 0.35  # the width of the bars\n",
    "\n",
    "fig, ax = plt.subplots()\n",
    "rects1 = ax.bar(ind - width/2, km_silhouette_1_6, width, edgecolor='white', label='Silhouette Coefficient')\n",
    "rects2 = ax.bar(ind + width/2, km_comp_1_6, width, edgecolor='white', label='Completeness Score')\n",
    "\n",
    "# Add some text for labels, title and custom x-axis tick labels, etc.\n",
    "ax.set_ylabel('Score')\n",
    "ax.set_title('BPIC 2020 K-means with 6 clusters')\n",
    "ax.set_xlabel('Feature Combinations')\n",
    "ax.set_xticks(ind)\n",
    "ax.set_xticklabels(('1', '2', '3', '4', '5', '6', '7', '8', '9', '10'))\n",
    "ax.legend(loc=\"lower right\")\n",
    "fig.savefig(\"data/silh_comp_plot_20_1_6.png\", dpi=250)"
   ]
  },
  {
   "cell_type": "code",
   "execution_count": null,
   "metadata": {},
   "outputs": [],
   "source": [
    "# DomesticDeclarations - KMeans --> first run 6 clusters\n",
    "fitness = [0.937034323801972,0.9850789035357109,0.9774813919701495,0.9522268282333185,0.7993767928830913,0.952239690760490,0.73636397707536181,0.8445536267949496,0.912941355618764,0.8596940590844108,0.806532590552607]\n",
    "precision = [0.30862919840927605,0.5437948127821546,0.5985375328483833,0.6311063736401543,0.974394469270125,0.6495314698309045,0.8052060320814522,0.9805796438047284,0.8068630009503223,0.9813945145615237,0.7408558623680787]\n",
    "generalization = [0.7539599515908599,0.9377578843391509,0.8833638416395249,0.9063961035565264,0.8997796995177683,0.8781157805981106,0.938203356273266,0.9830263961065824,0.9591731063853548,0.8890069824084068,0.8976432277061531]\n",
    "simplicity = [0.5769230769230769,0.7142857142857143,0.7021276595744681,0.7358490566037735,0.7647058823529413,0.7499999999999999,0.7777777777777779,0.7894736842105263,0.7254901960784313,0.6774193548387096,0.7142857142857143]\n",
    "\n",
    "ind = np.arange(len(fitness))  # the x locations for the groups\n",
    "width = 0.15  # the width of the bars\n",
    "\n",
    "fig, ax = plt.subplots()\n",
    "rects1 = ax.bar(ind - width*2, fitness, width, edgecolor='white', label='Average Trace Fitness')\n",
    "rects2 = ax.bar(ind-width, precision, width, edgecolor='white', label='Precision')\n",
    "rects3 = ax.bar(ind, generalization, width, edgecolor='white', label='Generalization')\n",
    "rects4 = ax.bar(ind + width, simplicity, width, edgecolor='white', label='Simplicity')\n",
    "\n",
    "# Add some text for labels, title and custom x-axis tick labels, etc.\n",
    "ax.set_ylabel('Score')\n",
    "ax.set_title('K-Means Abstracted Process Models by Inductive Miner')\n",
    "ax.set_xlabel('Feature Combinations')\n",
    "ax.set_xticks(ind)\n",
    "ax.set_xticklabels(('Original', '1', '2', '3', '4', '5', '6', '7', '8', '9', '10'))\n",
    "ax.legend(loc=\"lower right\")\n",
    "fig.savefig(\"data/km_m_1.png\", dpi=250)"
   ]
  },
  {
   "cell_type": "code",
   "execution_count": null,
   "metadata": {},
   "outputs": [],
   "source": [
    "# BPIC20 - Silhouette Coefficient/Completeness Score Run 2 6 Clusters\n",
    "\n",
    "km_comp_2 = [0.9748549180557265, 0.9906269542820231, 0.9566538285040456, 0.9834062943953894, 0.5916560676995639, 0.749128863639133, 0.9861803413400557]\n",
    "km_silhouette_2 = [0.7923153771698904, 0.8441644509354227, 0.4739215577932246, 0.5538700895860209, 0.5298184584485319, 0.3657820650799292, 0.4651111861755015]\n",
    "\n",
    "ind = np.arange(len(km_silhouette_2))  # the x locations for the groups\n",
    "width = 0.35  # the width of the bars\n",
    "\n",
    "fig, ax = plt.subplots()\n",
    "rects1 = ax.bar(ind - width/2, km_silhouette_2, width, edgecolor='white', label='Silhouette Coefficient')\n",
    "rects2 = ax.bar(ind + width/2, km_comp_2, width, edgecolor='white', label='Completeness Score')\n",
    "\n",
    "# Add some text for labels, title and custom x-axis tick labels, etc.\n",
    "ax.set_ylabel('Score')\n",
    "ax.set_title('BPIC 2020 K-means with 6 clusters')\n",
    "ax.set_xlabel('Feature Combinations')\n",
    "ax.set_xticks(ind)\n",
    "ax.set_xticklabels(('2', '3', '4', '5', '8', '9', '10'))\n",
    "ax.legend(loc=\"lower right\")\n",
    "fig.savefig(\"data/silh_comp_plot_2.png\", dpi=250)"
   ]
  },
  {
   "cell_type": "code",
   "execution_count": null,
   "metadata": {},
   "outputs": [],
   "source": [
    "# DomesticDeclarations - KMeans --> second run 6 clusters\n",
    "fitness=[0.937034323801972,0.9850789035357109,0.9343837320083261,0.8610516041705528,0.8332394297688103,0.8145783567070264,0.825822391520167,0.8426133901539516]\n",
    "precision=[0.30862919840927605,0.5437948127821546,0.9984844587501651,0.7476138657996172,0.9610848127645252,0.8674100829587728,0.8747778219425675,0.8085758821028766]\n",
    "generalization=[0.7539599515908599,0.9377578843391509,0.9417693681882106,0.7721390417662248,0.9000608365302502,0.91959399819973,0.9354368772153013,0.9151933920528923]\n",
    "simplicity=[0.5769230769230769,0.7142857142857143,0.7333333333333333,0.7241379310344828,0.7647058823529413,0.7599999999999999,0.7358490566037735,0.7391304347826086]\n",
    "\n",
    "ind = np.arange(len(fitness))  # the x locations for the groups\n",
    "width = 0.15  # the width of the bars\n",
    "\n",
    "fig, ax = plt.subplots()\n",
    "rects1 = ax.bar(ind - width*2, fitness, width, edgecolor='white', label='Average Trace Fitness')\n",
    "rects2 = ax.bar(ind-width, precision, width, edgecolor='white', label='Precision')\n",
    "rects3 = ax.bar(ind, generalization, width, edgecolor='white', label='Generalization')\n",
    "rects4 = ax.bar(ind + width, simplicity, width, edgecolor='white', label='Simplicity')\n",
    "\n",
    "# Add some text for labels, title and custom x-axis tick labels, etc.\n",
    "ax.set_ylabel('Score')\n",
    "ax.set_title('K-Means Abstracted Process Models by Inductive Miner')\n",
    "ax.set_xlabel('Feature Combinations')\n",
    "ax.set_xticks(ind)\n",
    "ax.set_xticklabels(('Original', '2', '3', '4', '5', '8', '9', '10'))\n",
    "ax.legend(loc=\"lower right\")\n",
    "fig.savefig(\"data/km_m_2.png\", dpi=250)"
   ]
  },
  {
   "cell_type": "code",
   "execution_count": null,
   "metadata": {},
   "outputs": [],
   "source": [
    "# BPIC15 - Silhouette Coefficient/Completeness Score 6 Clusters\n",
    "\n",
    "km_comp_3 = [0.16271698875223717, 0.028164423364430383, 0.3708202340677031, 0.14526713406212816, 0.028164423364430383, 0.14526713406212816, 0.1087712911344443, 0.028164423364430383, 0.20605014058190396, 0.028164423364430383]\n",
    "km_silhouette_3 = [0.25123795651925024, 0.7658273241455092, 0.0985357220847467, 0.05748262016541187, 0.76581082561969, 0.05748262016541187, 0.17720341177679574, 0.7658209692576939, 0.12937019145149553, 0.7658059288303973]\n",
    "\n",
    "ind = np.arange(len(km_silhouette_3))  # the x locations for the groups\n",
    "width = 0.35  # the width of the bars\n",
    "\n",
    "fig, ax = plt.subplots()\n",
    "rects1 = ax.bar(ind - width/2, km_silhouette_3, width, edgecolor='white', label='Silhouette Coefficient')\n",
    "rects2 = ax.bar(ind + width/2, km_comp_3, width, edgecolor='white', label='Completeness Score')\n",
    "\n",
    "# Add some text for labels, title and custom x-axis tick labels, etc.\n",
    "ax.set_ylabel('Score')\n",
    "ax.set_title('BPIC 2015 K-means with 6 clusters')\n",
    "ax.set_xlabel('Feature Combinations')\n",
    "ax.set_xticks(ind)\n",
    "ax.set_xticklabels(('1', '2', '3', '4', '5', '6', '7', '8', '9', '10'))\n",
    "ax.legend(loc=\"upper right\")\n",
    "fig.savefig(\"data/silh_comp_plot_3.png\", dpi=250)"
   ]
  }
 ],
 "metadata": {
  "kernelspec": {
   "display_name": "Python 3",
   "language": "python",
   "name": "python3"
  },
  "language_info": {
   "codemirror_mode": {
    "name": "ipython",
    "version": 3
   },
   "file_extension": ".py",
   "mimetype": "text/x-python",
   "name": "python",
   "nbconvert_exporter": "python",
   "pygments_lexer": "ipython3",
   "version": "3.7.2"
  }
 },
 "nbformat": 4,
 "nbformat_minor": 4
}
