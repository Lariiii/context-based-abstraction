{
 "cells": [
  {
   "cell_type": "code",
   "execution_count": null,
   "metadata": {},
   "outputs": [],
   "source": [
    "#reload source files automatically\n",
    "%load_ext autoreload\n",
    "%autoreload 2"
   ]
  },
  {
   "cell_type": "code",
   "execution_count": null,
   "metadata": {},
   "outputs": [],
   "source": [
    "import pandas as pd\n",
    "import matplotlib.pyplot as plt\n",
    "\n",
    "from event_clustering.preprocessing import *\n",
    "from event_clustering.clustering import *\n",
    "from event_clustering.feature_engineering import *\n",
    "from event_clustering.postprocessing import *\n",
    "from event_clustering.process_mining import *\n",
    "\n",
    "from sklearn.cluster import *\n",
    "import sklearn.metrics as metrics"
   ]
  },
  {
   "cell_type": "markdown",
   "metadata": {},
   "source": [
    "# Loading Preprocessing Analyzing"
   ]
  },
  {
   "cell_type": "code",
   "execution_count": null,
   "metadata": {},
   "outputs": [],
   "source": [
    "file_path = 'data/DomesticDeclarations.xes'\n",
    "df = preprocess(load(file_path))"
   ]
  },
  {
   "cell_type": "code",
   "execution_count": null,
   "metadata": {},
   "outputs": [],
   "source": [
    "analyze(df)\n",
    "df.head(10)"
   ]
  },
  {
   "cell_type": "code",
   "execution_count": null,
   "metadata": {},
   "outputs": [],
   "source": [
    "df = df[:1000]"
   ]
  },
  {
   "cell_type": "markdown",
   "metadata": {},
   "source": [
    "# Feature Generation"
   ]
  },
  {
   "cell_type": "code",
   "execution_count": null,
   "metadata": {
    "scrolled": true
   },
   "outputs": [],
   "source": [
    "add_event_type_representative(df)\n",
    "add_event_reference(df, 1, 1, True)"
   ]
  },
  {
   "cell_type": "code",
   "execution_count": null,
   "metadata": {},
   "outputs": [],
   "source": [
    "add_timestamp_features(df)"
   ]
  },
  {
   "cell_type": "markdown",
   "metadata": {},
   "source": [
    "# Encoding"
   ]
  },
  {
   "cell_type": "code",
   "execution_count": null,
   "metadata": {},
   "outputs": [],
   "source": [
    "df_cn = tfidf_encode(df, 'concept:name', TfidfVectorizer(stop_words = 'english'))\n",
    "df_role = one_hot_encode(df, 'org:role')"
   ]
  },
  {
   "cell_type": "code",
   "execution_count": null,
   "metadata": {},
   "outputs": [],
   "source": [
    "df_vectorized = df_cn\n",
    "df_vectorized = df_vectorized.join(df_role)\n",
    "#df_vectorized = df_vectorized.join(df['feature_day_nr'])"
   ]
  },
  {
   "cell_type": "markdown",
   "metadata": {},
   "source": [
    "# Clustering + Evaluation"
   ]
  },
  {
   "cell_type": "code",
   "execution_count": null,
   "metadata": {},
   "outputs": [],
   "source": [
    "find_optimal_clusters(df_vectorized, 10)"
   ]
  },
  {
   "cell_type": "code",
   "execution_count": null,
   "metadata": {},
   "outputs": [],
   "source": [
    "km = MiniBatchKMeans(n_clusters=4, init_size=1024, batch_size=2048, random_state=20)\n",
    "clusters = km.fit_predict(df_vectorized)"
   ]
  },
  {
   "cell_type": "code",
   "execution_count": null,
   "metadata": {},
   "outputs": [],
   "source": [
    "plot_pca(df_vectorized, clusters)"
   ]
  },
  {
   "cell_type": "code",
   "execution_count": null,
   "metadata": {},
   "outputs": [],
   "source": [
    "metrics.silhouette_score(df_vectorized, clusters)"
   ]
  },
  {
   "cell_type": "code",
   "execution_count": null,
   "metadata": {
    "scrolled": true
   },
   "outputs": [],
   "source": [
    "# set cluster label as a column in the original df\n",
    "df = add_cluster_label(df, df_vectorized, km)\n",
    "df.head(5)"
   ]
  },
  {
   "cell_type": "code",
   "execution_count": null,
   "metadata": {},
   "outputs": [],
   "source": [
    "# TODO: check which events are in which cluster!"
   ]
  },
  {
   "cell_type": "code",
   "execution_count": null,
   "metadata": {},
   "outputs": [],
   "source": [
    "# overwrite concept:name with mapped cluster representative\n",
    "abstracted_df = replace_with_representative(df, \"concept:name_representative\", \"cluster_label\")\n",
    "abstracted_df.head(5)"
   ]
  },
  {
   "cell_type": "code",
   "execution_count": null,
   "metadata": {},
   "outputs": [],
   "source": [
    "# write abstracted dataframe as csv file\n",
    "csv_filename = \"data/abstracted_df_domestic_declarations.csv\"\n",
    "write_to_csv(abstracted_df, csv_filename, index=False)"
   ]
  },
  {
   "cell_type": "markdown",
   "metadata": {},
   "source": [
    "# Compare Process Models from Original Dataset to Abstracted Dataset"
   ]
  },
  {
   "cell_type": "code",
   "execution_count": null,
   "metadata": {},
   "outputs": [],
   "source": [
    "# read original and abstracted dataset as event logs\n",
    "filepath_original = \"data/DomesticDeclarations.xes\"\n",
    "filepath_abstracted = csv_filename\n",
    "\n",
    "original_log = read_as_log_xes(filepath_original)\n",
    "abstracted_log = read_as_log_csv(filepath_abstracted)\n",
    "\n",
    "print(\"Original Log:\")\n",
    "print(original_log)\n",
    "print(\"\\nAbstracted Log:\")\n",
    "print(abstracted_log)"
   ]
  },
  {
   "cell_type": "markdown",
   "metadata": {},
   "source": [
    "## Mining Algorithms\n",
    "* Alpha Miner\n",
    "* Inductive Miner\n",
    "* Heuristic Miner\n",
    "* Directly-Follows Graph"
   ]
  },
  {
   "cell_type": "code",
   "execution_count": null,
   "metadata": {},
   "outputs": [],
   "source": [
    "# Alpha Miner\n",
    "net_alpha_orig, im_alpha_orig, fm_alpha_orig = a_miner(original_log)\n",
    "net_alpha, im_alpha, fm_alpha = a_miner(abstracted_log)"
   ]
  },
  {
   "cell_type": "code",
   "execution_count": null,
   "metadata": {},
   "outputs": [],
   "source": [
    "# Inductive Miner\n",
    "net_ind_orig, im_ind_orig, fm_ind_orig = ind_miner(original_log)\n",
    "net_ind, im_ind, fm_ind = ind_miner(abstracted_log)"
   ]
  },
  {
   "cell_type": "code",
   "execution_count": null,
   "metadata": {
    "scrolled": false
   },
   "outputs": [],
   "source": [
    "# Heuristic Miner\n",
    "net_heu_orig, im_heu_orig, fm_heu_orig = heu_miner(original_log)\n",
    "net_heu, im_heu, fm_heu = heu_miner(abstracted_log)"
   ]
  },
  {
   "cell_type": "code",
   "execution_count": null,
   "metadata": {},
   "outputs": [],
   "source": [
    "# Directly-Follows Graph\n",
    "dfg_miner(original_log)\n",
    "dfg_miner(abstracted_log)"
   ]
  },
  {
   "cell_type": "markdown",
   "metadata": {},
   "source": [
    "## Process Model Metrics\n",
    "* Fitness\n",
    "* Precision\n",
    "* Generalization\n",
    "* Simplicity"
   ]
  },
  {
   "cell_type": "code",
   "execution_count": null,
   "metadata": {},
   "outputs": [],
   "source": [
    "# Fitness\n",
    "print(\"Original Log with Heuristic Miner:\")\n",
    "fitness_metric(original_log, net_heu_orig, im_heu_orig, fm_heu_orig)\n",
    "\n",
    "print(\"\\nAbstracted Log with Heuristic Miner\")\n",
    "fitness_metric(abstracted_log, net_heu, im_heu, fm_heu)"
   ]
  },
  {
   "cell_type": "code",
   "execution_count": null,
   "metadata": {},
   "outputs": [],
   "source": [
    "# Precision\n",
    "print(\"Original Log with Heuristic Miner:\")\n",
    "precision_metric(original_log, net_heu_orig, im_heu_orig, fm_heu_orig)\n",
    "\n",
    "print(\"\\nAbstracted Log with Heuristic Miner\")\n",
    "precision_metric(abstracted_log, net_heu, im_heu, fm_heu)"
   ]
  },
  {
   "cell_type": "code",
   "execution_count": null,
   "metadata": {},
   "outputs": [],
   "source": [
    "# Generalization\n",
    "print(\"Original Log with Heuristic Miner:\")\n",
    "generalization_metric(original_log, net_heu_orig, im_heu_orig, fm_heu_orig)\n",
    "\n",
    "print(\"\\nAbstracted Log with Heuristic Miner\")\n",
    "generalization_metric(abstracted_log, net_heu, im_heu, fm_heu)"
   ]
  },
  {
   "cell_type": "code",
   "execution_count": null,
   "metadata": {},
   "outputs": [],
   "source": [
    "# Simplicity\n",
    "print(\"Original Log with Heuristic Miner:\")\n",
    "simplicity_metric(original_log, net_heu_orig, im_heu_orig, fm_heu_orig)\n",
    "\n",
    "print(\"\\nAbstracted Log with Heuristic Miner\")\n",
    "simplicity_metric(abstracted_log, net_heu, im_heu, fm_heu)"
   ]
  },
  {
   "cell_type": "code",
   "execution_count": null,
   "metadata": {},
   "outputs": [],
   "source": [
    "# Evaluation --> all four metrices in one line\n",
    "print(\"Original Log with Heuristic Miner:\")\n",
    "evaluation_metric(original_log, net_heu_orig, im_heu_orig, fm_heu_orig)\n",
    "\n",
    "print(\"\\nAbstracted Log with Heuristic Miner\")\n",
    "evaluation_metric(abstracted_log, net_heu, im_heu, fm_heu)"
   ]
  },
  {
   "cell_type": "code",
   "execution_count": null,
   "metadata": {},
   "outputs": [],
   "source": []
  }
 ],
 "metadata": {
  "kernelspec": {
   "display_name": "Python 3",
   "language": "python",
   "name": "python3"
  },
  "language_info": {
   "codemirror_mode": {
    "name": "ipython",
    "version": 3
   },
   "file_extension": ".py",
   "mimetype": "text/x-python",
   "name": "python",
   "nbconvert_exporter": "python",
   "pygments_lexer": "ipython3",
   "version": "3.7.3"
  }
 },
 "nbformat": 4,
 "nbformat_minor": 2
}
