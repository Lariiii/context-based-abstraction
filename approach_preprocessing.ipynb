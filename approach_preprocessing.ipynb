{
 "cells": [
  {
   "cell_type": "code",
   "execution_count": 65,
   "metadata": {},
   "outputs": [
    {
     "name": "stdout",
     "output_type": "stream",
     "text": [
      "The autoreload extension is already loaded. To reload it, use:\n",
      "  %reload_ext autoreload\n"
     ]
    }
   ],
   "source": [
    "#reload source files automatically\n",
    "%load_ext autoreload\n",
    "%autoreload 2"
   ]
  },
  {
   "cell_type": "code",
   "execution_count": 66,
   "metadata": {},
   "outputs": [],
   "source": [
    "import pandas as pd\n",
    "\n",
    "from event_clustering.preprocessing import *"
   ]
  },
  {
   "cell_type": "markdown",
   "metadata": {},
   "source": [
    "# Loading Preprocessing Analyzing"
   ]
  },
  {
   "cell_type": "code",
   "execution_count": 27,
   "metadata": {},
   "outputs": [],
   "source": [
    "# change the column name map to suit your dataset\n",
    "column_name_map = {\n",
    "    'timestamp': 'time:timestamp',\n",
    "    'caseid' : 'case:id',\n",
    "    'eventname' : 'concept:name'   \n",
    "}  "
   ]
  },
  {
   "cell_type": "code",
   "execution_count": 45,
   "metadata": {},
   "outputs": [
    {
     "data": {
      "text/plain": [
       "Int64Index([12269, 12270, 12428, 12570, 12761, 13122], dtype='int64')"
      ]
     },
     "execution_count": 45,
     "metadata": {},
     "output_type": "execute_result"
    }
   ],
   "source": [
    "df.groupby(['case:id']).groups['declaration 100015']"
   ]
  },
  {
   "cell_type": "code",
   "execution_count": 28,
   "metadata": {},
   "outputs": [],
   "source": [
    "file_name = 'DomesticDeclarations'\n",
    "df = preprocess(load('data/' + file_name + '.xes'), column_name_map)\n",
    "original_df_columns = df.columns"
   ]
  },
  {
   "cell_type": "code",
   "execution_count": 50,
   "metadata": {},
   "outputs": [
    {
     "name": "stdout",
     "output_type": "stream",
     "text": [
      "column name: case:Amount\n",
      "data type: <class 'numpy.float64'>\n",
      "unique values: 8326\n",
      "\n",
      "\n",
      "column name: case:BudgetNumber\n",
      "data type: <class 'str'>\n",
      "unique values: 1\n",
      "\n",
      "\n",
      "column name: case:DeclarationNumber\n",
      "data type: <class 'str'>\n",
      "unique values: 10049\n",
      "\n",
      "\n",
      "column name: case:concept:name\n",
      "data type: <class 'str'>\n",
      "unique values: 10500\n",
      "\n",
      "\n",
      "column name: case:id\n",
      "data type: <class 'str'>\n",
      "unique values: 10500\n",
      "\n",
      "\n",
      "column name: concept:name\n",
      "data type: <class 'str'>\n",
      "unique values: 17\n",
      "\n",
      "\n",
      "column name: id\n",
      "data type: <class 'str'>\n",
      "unique values: 56437\n",
      "\n",
      "\n",
      "column name: org:resource\n",
      "data type: <class 'str'>\n",
      "unique values: 2\n",
      "\n",
      "\n",
      "column name: org:role\n",
      "data type: <class 'str'>\n",
      "unique values: 7\n",
      "\n",
      "\n",
      "column name: time:timestamp\n",
      "data type: <class 'datetime.datetime'>\n",
      "unique values: 45403\n",
      "\n",
      "\n",
      "column name: feature_time_since_start\n",
      "data type: <class 'numpy.float64'>\n",
      "unique values: 36478\n",
      "\n",
      "\n",
      "min case length: 1\n",
      "max case length: 24\n",
      "mean case length: 5.374952380952381\n",
      "Nr of cases 10500\n",
      "2020-08-03 16:42:00.051689\n",
      "10500min case duration seconds: 0.0\n",
      "min case duration hours: 0.0\n",
      "max case duration seconds: 40542018.0\n",
      "max case duration hours: 11261.671666666667\n",
      "mean case duration seconds: 995822.3790476191\n",
      "mean case duration: hours276.6173275132275\n"
     ]
    }
   ],
   "source": [
    "analyze(df, column_name_map, include_casetime=True)"
   ]
  },
  {
   "cell_type": "code",
   "execution_count": 30,
   "metadata": {},
   "outputs": [
    {
     "data": {
      "text/html": [
       "<div>\n",
       "<style scoped>\n",
       "    .dataframe tbody tr th:only-of-type {\n",
       "        vertical-align: middle;\n",
       "    }\n",
       "\n",
       "    .dataframe tbody tr th {\n",
       "        vertical-align: top;\n",
       "    }\n",
       "\n",
       "    .dataframe thead th {\n",
       "        text-align: right;\n",
       "    }\n",
       "</style>\n",
       "<table border=\"1\" class=\"dataframe\">\n",
       "  <thead>\n",
       "    <tr style=\"text-align: right;\">\n",
       "      <th></th>\n",
       "      <th>case:Amount</th>\n",
       "      <th>case:BudgetNumber</th>\n",
       "      <th>case:DeclarationNumber</th>\n",
       "      <th>case:concept:name</th>\n",
       "      <th>case:id</th>\n",
       "      <th>concept:name</th>\n",
       "      <th>id</th>\n",
       "      <th>org:resource</th>\n",
       "      <th>org:role</th>\n",
       "      <th>time:timestamp</th>\n",
       "    </tr>\n",
       "  </thead>\n",
       "  <tbody>\n",
       "    <tr>\n",
       "      <th>0</th>\n",
       "      <td>26.851205</td>\n",
       "      <td>budget 86566</td>\n",
       "      <td>declaration number 86792</td>\n",
       "      <td>declaration 86791</td>\n",
       "      <td>declaration 86791</td>\n",
       "      <td>Declaration SUBMITTED by EMPLOYEE</td>\n",
       "      <td>st_step 86794_0</td>\n",
       "      <td>STAFF MEMBER</td>\n",
       "      <td>EMPLOYEE</td>\n",
       "      <td>2017-01-09 09:49:50+01:00</td>\n",
       "    </tr>\n",
       "    <tr>\n",
       "      <th>1</th>\n",
       "      <td>182.464172</td>\n",
       "      <td>budget 86566</td>\n",
       "      <td>declaration number 86796</td>\n",
       "      <td>declaration 86795</td>\n",
       "      <td>declaration 86795</td>\n",
       "      <td>Declaration SUBMITTED by EMPLOYEE</td>\n",
       "      <td>st_step 86798_0</td>\n",
       "      <td>STAFF MEMBER</td>\n",
       "      <td>EMPLOYEE</td>\n",
       "      <td>2017-01-09 10:26:14+01:00</td>\n",
       "    </tr>\n",
       "    <tr>\n",
       "      <th>2</th>\n",
       "      <td>320.646137</td>\n",
       "      <td>budget 86566</td>\n",
       "      <td>declaration number 86801</td>\n",
       "      <td>declaration 86800</td>\n",
       "      <td>declaration 86800</td>\n",
       "      <td>Declaration SUBMITTED by EMPLOYEE</td>\n",
       "      <td>st_step 86804_0</td>\n",
       "      <td>STAFF MEMBER</td>\n",
       "      <td>EMPLOYEE</td>\n",
       "      <td>2017-01-09 11:13:33+01:00</td>\n",
       "    </tr>\n",
       "    <tr>\n",
       "      <th>3</th>\n",
       "      <td>113.862047</td>\n",
       "      <td>budget 86566</td>\n",
       "      <td>declaration number 86732</td>\n",
       "      <td>declaration 86731</td>\n",
       "      <td>declaration 86731</td>\n",
       "      <td>Declaration SUBMITTED by EMPLOYEE</td>\n",
       "      <td>st_step 86733_0</td>\n",
       "      <td>STAFF MEMBER</td>\n",
       "      <td>EMPLOYEE</td>\n",
       "      <td>2017-01-09 11:24:20+01:00</td>\n",
       "    </tr>\n",
       "    <tr>\n",
       "      <th>4</th>\n",
       "      <td>26.851205</td>\n",
       "      <td>budget 86566</td>\n",
       "      <td>declaration number 86792</td>\n",
       "      <td>declaration 86791</td>\n",
       "      <td>declaration 86791</td>\n",
       "      <td>Declaration FINAL_APPROVED by SUPERVISOR</td>\n",
       "      <td>st_step 86793_0</td>\n",
       "      <td>STAFF MEMBER</td>\n",
       "      <td>SUPERVISOR</td>\n",
       "      <td>2017-01-09 11:27:48+01:00</td>\n",
       "    </tr>\n",
       "    <tr>\n",
       "      <th>5</th>\n",
       "      <td>134.404169</td>\n",
       "      <td>budget 86566</td>\n",
       "      <td>declaration number 86736</td>\n",
       "      <td>declaration 86735</td>\n",
       "      <td>declaration 86735</td>\n",
       "      <td>Declaration SUBMITTED by EMPLOYEE</td>\n",
       "      <td>st_step 86738_0</td>\n",
       "      <td>STAFF MEMBER</td>\n",
       "      <td>EMPLOYEE</td>\n",
       "      <td>2017-01-09 11:30:26+01:00</td>\n",
       "    </tr>\n",
       "    <tr>\n",
       "      <th>6</th>\n",
       "      <td>134.404169</td>\n",
       "      <td>budget 86566</td>\n",
       "      <td>declaration number 86736</td>\n",
       "      <td>declaration 86735</td>\n",
       "      <td>declaration 86735</td>\n",
       "      <td>Declaration FINAL_APPROVED by SUPERVISOR</td>\n",
       "      <td>st_step 86737_0</td>\n",
       "      <td>STAFF MEMBER</td>\n",
       "      <td>SUPERVISOR</td>\n",
       "      <td>2017-01-09 11:37:18+01:00</td>\n",
       "    </tr>\n",
       "    <tr>\n",
       "      <th>7</th>\n",
       "      <td>113.862047</td>\n",
       "      <td>budget 86566</td>\n",
       "      <td>declaration number 86732</td>\n",
       "      <td>declaration 86731</td>\n",
       "      <td>declaration 86731</td>\n",
       "      <td>Declaration FINAL_APPROVED by SUPERVISOR</td>\n",
       "      <td>st_step 86734_0</td>\n",
       "      <td>STAFF MEMBER</td>\n",
       "      <td>SUPERVISOR</td>\n",
       "      <td>2017-01-09 11:37:23+01:00</td>\n",
       "    </tr>\n",
       "    <tr>\n",
       "      <th>8</th>\n",
       "      <td>443.585163</td>\n",
       "      <td>budget 86566</td>\n",
       "      <td>declaration number 86806</td>\n",
       "      <td>declaration 86805</td>\n",
       "      <td>declaration 86805</td>\n",
       "      <td>Declaration SUBMITTED by EMPLOYEE</td>\n",
       "      <td>st_step 86807_0</td>\n",
       "      <td>STAFF MEMBER</td>\n",
       "      <td>EMPLOYEE</td>\n",
       "      <td>2017-01-09 11:40:47+01:00</td>\n",
       "    </tr>\n",
       "    <tr>\n",
       "      <th>9</th>\n",
       "      <td>443.585163</td>\n",
       "      <td>budget 86566</td>\n",
       "      <td>declaration number 86806</td>\n",
       "      <td>declaration 86805</td>\n",
       "      <td>declaration 86805</td>\n",
       "      <td>Declaration FINAL_APPROVED by SUPERVISOR</td>\n",
       "      <td>st_step 86808_0</td>\n",
       "      <td>STAFF MEMBER</td>\n",
       "      <td>SUPERVISOR</td>\n",
       "      <td>2017-01-09 11:41:23+01:00</td>\n",
       "    </tr>\n",
       "  </tbody>\n",
       "</table>\n",
       "</div>"
      ],
      "text/plain": [
       "   case:Amount case:BudgetNumber    case:DeclarationNumber  case:concept:name  \\\n",
       "0    26.851205      budget 86566  declaration number 86792  declaration 86791   \n",
       "1   182.464172      budget 86566  declaration number 86796  declaration 86795   \n",
       "2   320.646137      budget 86566  declaration number 86801  declaration 86800   \n",
       "3   113.862047      budget 86566  declaration number 86732  declaration 86731   \n",
       "4    26.851205      budget 86566  declaration number 86792  declaration 86791   \n",
       "5   134.404169      budget 86566  declaration number 86736  declaration 86735   \n",
       "6   134.404169      budget 86566  declaration number 86736  declaration 86735   \n",
       "7   113.862047      budget 86566  declaration number 86732  declaration 86731   \n",
       "8   443.585163      budget 86566  declaration number 86806  declaration 86805   \n",
       "9   443.585163      budget 86566  declaration number 86806  declaration 86805   \n",
       "\n",
       "             case:id                              concept:name  \\\n",
       "0  declaration 86791         Declaration SUBMITTED by EMPLOYEE   \n",
       "1  declaration 86795         Declaration SUBMITTED by EMPLOYEE   \n",
       "2  declaration 86800         Declaration SUBMITTED by EMPLOYEE   \n",
       "3  declaration 86731         Declaration SUBMITTED by EMPLOYEE   \n",
       "4  declaration 86791  Declaration FINAL_APPROVED by SUPERVISOR   \n",
       "5  declaration 86735         Declaration SUBMITTED by EMPLOYEE   \n",
       "6  declaration 86735  Declaration FINAL_APPROVED by SUPERVISOR   \n",
       "7  declaration 86731  Declaration FINAL_APPROVED by SUPERVISOR   \n",
       "8  declaration 86805         Declaration SUBMITTED by EMPLOYEE   \n",
       "9  declaration 86805  Declaration FINAL_APPROVED by SUPERVISOR   \n",
       "\n",
       "                id  org:resource    org:role             time:timestamp  \n",
       "0  st_step 86794_0  STAFF MEMBER    EMPLOYEE  2017-01-09 09:49:50+01:00  \n",
       "1  st_step 86798_0  STAFF MEMBER    EMPLOYEE  2017-01-09 10:26:14+01:00  \n",
       "2  st_step 86804_0  STAFF MEMBER    EMPLOYEE  2017-01-09 11:13:33+01:00  \n",
       "3  st_step 86733_0  STAFF MEMBER    EMPLOYEE  2017-01-09 11:24:20+01:00  \n",
       "4  st_step 86793_0  STAFF MEMBER  SUPERVISOR  2017-01-09 11:27:48+01:00  \n",
       "5  st_step 86738_0  STAFF MEMBER    EMPLOYEE  2017-01-09 11:30:26+01:00  \n",
       "6  st_step 86737_0  STAFF MEMBER  SUPERVISOR  2017-01-09 11:37:18+01:00  \n",
       "7  st_step 86734_0  STAFF MEMBER  SUPERVISOR  2017-01-09 11:37:23+01:00  \n",
       "8  st_step 86807_0  STAFF MEMBER    EMPLOYEE  2017-01-09 11:40:47+01:00  \n",
       "9  st_step 86808_0  STAFF MEMBER  SUPERVISOR  2017-01-09 11:41:23+01:00  "
      ]
     },
     "execution_count": 30,
     "metadata": {},
     "output_type": "execute_result"
    }
   ],
   "source": [
    "df.head(10)"
   ]
  },
  {
   "cell_type": "markdown",
   "metadata": {},
   "source": [
    "# Feature Generation"
   ]
  },
  {
   "cell_type": "code",
   "execution_count": 31,
   "metadata": {},
   "outputs": [],
   "source": [
    "# uncomment the following lines if you want to add one hot encoded start, middle and end events\n",
    "\n",
    "#add_neighbor_event(df, 1)\n",
    "#add_neighbor_event(df, -1)\n",
    "#determine_start_end_event_feature(df, column_name_map)"
   ]
  },
  {
   "cell_type": "code",
   "execution_count": 70,
   "metadata": {},
   "outputs": [
    {
     "name": "stdout",
     "output_type": "stream",
     "text": [
      "Nr of cases 10500\n",
      "2020-08-03 17:32:46.106540\n",
      "10500"
     ]
    }
   ],
   "source": [
    "determine_time_frame_feature(df, column_name_map, start_window_length=3600, end_window_length=3600)"
   ]
  },
  {
   "cell_type": "code",
   "execution_count": 54,
   "metadata": {},
   "outputs": [],
   "source": [
    "add_timestamp_features(df, column_name_map)"
   ]
  },
  {
   "cell_type": "code",
   "execution_count": null,
   "metadata": {},
   "outputs": [],
   "source": [
    "df.to_csv('data/' + file_name +'_features.csv', index=False)"
   ]
  },
  {
   "cell_type": "markdown",
   "metadata": {},
   "source": [
    "# Encoding"
   ]
  },
  {
   "cell_type": "code",
   "execution_count": null,
   "metadata": {},
   "outputs": [],
   "source": [
    "df = preprocess(pd.read_csv('data/' + file_name +'_features.csv'))"
   ]
  },
  {
   "cell_type": "code",
   "execution_count": 72,
   "metadata": {},
   "outputs": [],
   "source": [
    "df_name = tfidf_encode(df, 'concept:name', TfidfVectorizer(stop_words = 'english'))\n",
    "#df_act_name = tfidf_encode(df, 'activityNameEN', TfidfVectorizer(stop_words = 'english'))\n",
    "#df_resource = one_hot_encode(df, 'org:resource')\n",
    "#df_role = one_hot_encode(df, 'org:role')\n",
    "#df_time_window = df[['feature_in_start_window', 'feature_in_end_window']]\n",
    "#df_time = binning(df, 'feature_timedif_neighbor_event_', 10)\n",
    "#df_time_of_day = df[filter_column_names(df, 'feature_time_')]"
   ]
  },
  {
   "cell_type": "code",
   "execution_count": null,
   "metadata": {},
   "outputs": [],
   "source": [
    "df_encoded = df_name\n",
    "#df_encoded = df_encoded.join(df_resource)\n",
    "#df_encoded = df_encoded.join(df[\"case:SUMleges\"].fillna(0))\n",
    "#df_encoded = df_encoded.join(df_act_name)\n",
    "#df_encoded = df_encoded.join(df_role)\n",
    "#df_encoded = df_encoded.join(df_event_position)\n",
    "#df_encoded = df_encoded.join(df_time)\n",
    "#df_encoded = df_encoded.join(df['feature_day_nr'])\n",
    "#df_encoded = df_encoded.join(df_time_of_day)"
   ]
  },
  {
   "cell_type": "code",
   "execution_count": null,
   "metadata": {},
   "outputs": [],
   "source": [
    "# file_name_structure: [Dataset-name]_[Feature-groups]_encoded.csv\n",
    "df_encoded.to_csv('data/' + file_name +'_name-cost-act-tod_encoded.csv', index=False)"
   ]
  },
  {
   "cell_type": "code",
   "execution_count": null,
   "metadata": {},
   "outputs": [],
   "source": [
    "df_encoded.columns"
   ]
  },
  {
   "cell_type": "code",
   "execution_count": null,
   "metadata": {
    "scrolled": false
   },
   "outputs": [],
   "source": [
    "df_encoded"
   ]
  }
 ],
 "metadata": {
  "kernelspec": {
   "display_name": "Python 3",
   "language": "python",
   "name": "python3"
  },
  "language_info": {
   "codemirror_mode": {
    "name": "ipython",
    "version": 3
   },
   "file_extension": ".py",
   "mimetype": "text/x-python",
   "name": "python",
   "nbconvert_exporter": "python",
   "pygments_lexer": "ipython3",
   "version": "3.7.3"
  }
 },
 "nbformat": 4,
 "nbformat_minor": 2
}
