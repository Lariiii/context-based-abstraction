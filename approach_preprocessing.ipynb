{
 "cells": [
  {
   "cell_type": "code",
   "execution_count": 9,
   "metadata": {},
   "outputs": [
    {
     "name": "stdout",
     "output_type": "stream",
     "text": [
      "The autoreload extension is already loaded. To reload it, use:\n",
      "  %reload_ext autoreload\n"
     ]
    }
   ],
   "source": [
    "#reload source files automatically\n",
    "%load_ext autoreload\n",
    "%autoreload 2"
   ]
  },
  {
   "cell_type": "code",
   "execution_count": 10,
   "metadata": {},
   "outputs": [],
   "source": [
    "import pandas as pd\n",
    "\n",
    "from event_clustering.preprocessing import *"
   ]
  },
  {
   "cell_type": "markdown",
   "metadata": {},
   "source": [
    "# Loading Preprocessing Analyzing"
   ]
  },
  {
   "cell_type": "code",
   "execution_count": 17,
   "metadata": {},
   "outputs": [],
   "source": [
    "# change the column name map to suit your dataset\n",
    "column_name_map = {\n",
    "    'timestamp': 'time:timestamp',\n",
    "    'caseid' : 'case:id',\n",
    "    'eventname' : 'concept:name',\n",
    "    'eventnamerepresentative': 'concept:name_representative'\n",
    "}  "
   ]
  },
  {
   "cell_type": "code",
   "execution_count": 18,
   "metadata": {},
   "outputs": [],
   "source": [
    "file_name = 'DomesticDeclarations'\n",
    "df = preprocess(load('data/' + file_name + '.xes'), column_name_map)\n",
    "original_df_columns = df.columns"
   ]
  },
  {
   "cell_type": "code",
   "execution_count": 19,
   "metadata": {},
   "outputs": [
    {
     "name": "stdout",
     "output_type": "stream",
     "text": [
      "column name: case:concept:name\n",
      "data type: <class 'str'>\n",
      "unique values: 7554\n",
      "\n",
      "\n",
      "column name: concept:name\n",
      "data type: <class 'str'>\n",
      "unique values: 4\n",
      "\n",
      "\n",
      "column name: impact\n",
      "data type: <class 'str'>\n",
      "unique values: 4\n",
      "\n",
      "\n",
      "column name: lifecycle:transition\n",
      "data type: <class 'str'>\n",
      "unique values: 13\n",
      "\n",
      "\n",
      "column name: org:group\n",
      "data type: <class 'str'>\n",
      "unique values: 649\n",
      "\n",
      "\n",
      "column name: org:resource\n",
      "data type: <class 'str'>\n",
      "unique values: 1440\n",
      "\n",
      "\n",
      "column name: org:role\n",
      "data type: <class 'str'>\n",
      "unique values: 24\n",
      "\n",
      "\n",
      "column name: organization country\n",
      "data type: <class 'str'>\n",
      "unique values: 23\n",
      "\n",
      "\n",
      "column name: organization involved\n",
      "data type: <class 'str'>\n",
      "unique values: 25\n",
      "\n",
      "\n",
      "column name: product\n",
      "data type: <class 'str'>\n",
      "unique values: 704\n",
      "\n",
      "\n",
      "column name: resource country\n",
      "data type: <class 'str'>\n",
      "unique values: 32\n",
      "\n",
      "\n",
      "column name: time:timestamp\n",
      "data type: <class 'datetime.datetime'>\n",
      "unique values: 60023\n",
      "\n",
      "\n"
     ]
    }
   ],
   "source": [
    "analyze(df)"
   ]
  },
  {
   "cell_type": "code",
   "execution_count": 20,
   "metadata": {},
   "outputs": [
    {
     "data": {
      "text/html": [
       "<div>\n",
       "<style scoped>\n",
       "    .dataframe tbody tr th:only-of-type {\n",
       "        vertical-align: middle;\n",
       "    }\n",
       "\n",
       "    .dataframe tbody tr th {\n",
       "        vertical-align: top;\n",
       "    }\n",
       "\n",
       "    .dataframe thead th {\n",
       "        text-align: right;\n",
       "    }\n",
       "</style>\n",
       "<table border=\"1\" class=\"dataframe\">\n",
       "  <thead>\n",
       "    <tr style=\"text-align: right;\">\n",
       "      <th></th>\n",
       "      <th>case:concept:name</th>\n",
       "      <th>concept:name</th>\n",
       "      <th>impact</th>\n",
       "      <th>lifecycle:transition</th>\n",
       "      <th>org:group</th>\n",
       "      <th>org:resource</th>\n",
       "      <th>org:role</th>\n",
       "      <th>organization country</th>\n",
       "      <th>organization involved</th>\n",
       "      <th>product</th>\n",
       "      <th>resource country</th>\n",
       "      <th>time:timestamp</th>\n",
       "    </tr>\n",
       "  </thead>\n",
       "  <tbody>\n",
       "    <tr>\n",
       "      <th>0</th>\n",
       "      <td>1-364285768</td>\n",
       "      <td>Accepted</td>\n",
       "      <td>Medium</td>\n",
       "      <td>In Progress</td>\n",
       "      <td>V30</td>\n",
       "      <td>Frederic</td>\n",
       "      <td>A2_4</td>\n",
       "      <td>fr</td>\n",
       "      <td>Org line A2</td>\n",
       "      <td>PROD582</td>\n",
       "      <td>France</td>\n",
       "      <td>2010-03-31 16:59:42+02:00</td>\n",
       "    </tr>\n",
       "    <tr>\n",
       "      <th>1</th>\n",
       "      <td>1-364285768</td>\n",
       "      <td>Accepted</td>\n",
       "      <td>Medium</td>\n",
       "      <td>In Progress</td>\n",
       "      <td>V30</td>\n",
       "      <td>Frederic</td>\n",
       "      <td>A2_4</td>\n",
       "      <td>fr</td>\n",
       "      <td>Org line A2</td>\n",
       "      <td>PROD582</td>\n",
       "      <td>France</td>\n",
       "      <td>2010-03-31 17:00:56+02:00</td>\n",
       "    </tr>\n",
       "    <tr>\n",
       "      <th>2</th>\n",
       "      <td>1-364285768</td>\n",
       "      <td>Queued</td>\n",
       "      <td>Medium</td>\n",
       "      <td>Awaiting Assignment</td>\n",
       "      <td>V5 3rd</td>\n",
       "      <td>Frederic</td>\n",
       "      <td>A2_5</td>\n",
       "      <td>fr</td>\n",
       "      <td>Org line A2</td>\n",
       "      <td>PROD582</td>\n",
       "      <td>France</td>\n",
       "      <td>2010-03-31 17:45:48+02:00</td>\n",
       "    </tr>\n",
       "    <tr>\n",
       "      <th>3</th>\n",
       "      <td>1-364285768</td>\n",
       "      <td>Accepted</td>\n",
       "      <td>Medium</td>\n",
       "      <td>In Progress</td>\n",
       "      <td>V5 3rd</td>\n",
       "      <td>Anne Claire</td>\n",
       "      <td>A2_5</td>\n",
       "      <td>fr</td>\n",
       "      <td>Org line A2</td>\n",
       "      <td>PROD582</td>\n",
       "      <td>France</td>\n",
       "      <td>2010-04-06 16:44:07+02:00</td>\n",
       "    </tr>\n",
       "    <tr>\n",
       "      <th>4</th>\n",
       "      <td>1-364285768</td>\n",
       "      <td>Queued</td>\n",
       "      <td>Medium</td>\n",
       "      <td>Awaiting Assignment</td>\n",
       "      <td>V30</td>\n",
       "      <td>Anne Claire</td>\n",
       "      <td>A2_4</td>\n",
       "      <td>fr</td>\n",
       "      <td>Org line A2</td>\n",
       "      <td>PROD582</td>\n",
       "      <td>France</td>\n",
       "      <td>2010-04-06 16:44:38+02:00</td>\n",
       "    </tr>\n",
       "    <tr>\n",
       "      <th>5</th>\n",
       "      <td>1-364285768</td>\n",
       "      <td>Accepted</td>\n",
       "      <td>Medium</td>\n",
       "      <td>In Progress</td>\n",
       "      <td>V13 2nd 3rd</td>\n",
       "      <td>Anne Claire</td>\n",
       "      <td>A2_5</td>\n",
       "      <td>fr</td>\n",
       "      <td>Org line A2</td>\n",
       "      <td>PROD582</td>\n",
       "      <td>France</td>\n",
       "      <td>2010-04-06 16:44:47+02:00</td>\n",
       "    </tr>\n",
       "    <tr>\n",
       "      <th>6</th>\n",
       "      <td>1-364285768</td>\n",
       "      <td>Completed</td>\n",
       "      <td>Medium</td>\n",
       "      <td>Resolved</td>\n",
       "      <td>V13 2nd 3rd</td>\n",
       "      <td>Anne Claire</td>\n",
       "      <td>A2_5</td>\n",
       "      <td>fr</td>\n",
       "      <td>Org line A2</td>\n",
       "      <td>PROD582</td>\n",
       "      <td>France</td>\n",
       "      <td>2010-04-06 16:44:51+02:00</td>\n",
       "    </tr>\n",
       "    <tr>\n",
       "      <th>7</th>\n",
       "      <td>1-364285768</td>\n",
       "      <td>Queued</td>\n",
       "      <td>Medium</td>\n",
       "      <td>Awaiting Assignment</td>\n",
       "      <td>V30</td>\n",
       "      <td>Anne Claire</td>\n",
       "      <td>A2_4</td>\n",
       "      <td>fr</td>\n",
       "      <td>Org line A2</td>\n",
       "      <td>PROD582</td>\n",
       "      <td>France</td>\n",
       "      <td>2010-04-06 16:45:07+02:00</td>\n",
       "    </tr>\n",
       "    <tr>\n",
       "      <th>8</th>\n",
       "      <td>1-364285768</td>\n",
       "      <td>Accepted</td>\n",
       "      <td>Medium</td>\n",
       "      <td>In Progress</td>\n",
       "      <td>V30</td>\n",
       "      <td>Eric</td>\n",
       "      <td>A2_4</td>\n",
       "      <td>fr</td>\n",
       "      <td>Org line A2</td>\n",
       "      <td>PROD582</td>\n",
       "      <td>France</td>\n",
       "      <td>2010-04-08 12:52:23+02:00</td>\n",
       "    </tr>\n",
       "    <tr>\n",
       "      <th>9</th>\n",
       "      <td>1-364285768</td>\n",
       "      <td>Queued</td>\n",
       "      <td>Medium</td>\n",
       "      <td>Awaiting Assignment</td>\n",
       "      <td>V5 3rd</td>\n",
       "      <td>Eric</td>\n",
       "      <td>A2_5</td>\n",
       "      <td>fr</td>\n",
       "      <td>Org line A2</td>\n",
       "      <td>PROD582</td>\n",
       "      <td>France</td>\n",
       "      <td>2010-04-08 12:53:35+02:00</td>\n",
       "    </tr>\n",
       "  </tbody>\n",
       "</table>\n",
       "</div>"
      ],
      "text/plain": [
       "  case:concept:name concept:name  impact lifecycle:transition    org:group  \\\n",
       "0       1-364285768     Accepted  Medium          In Progress          V30   \n",
       "1       1-364285768     Accepted  Medium          In Progress          V30   \n",
       "2       1-364285768       Queued  Medium  Awaiting Assignment       V5 3rd   \n",
       "3       1-364285768     Accepted  Medium          In Progress       V5 3rd   \n",
       "4       1-364285768       Queued  Medium  Awaiting Assignment          V30   \n",
       "5       1-364285768     Accepted  Medium          In Progress  V13 2nd 3rd   \n",
       "6       1-364285768    Completed  Medium             Resolved  V13 2nd 3rd   \n",
       "7       1-364285768       Queued  Medium  Awaiting Assignment          V30   \n",
       "8       1-364285768     Accepted  Medium          In Progress          V30   \n",
       "9       1-364285768       Queued  Medium  Awaiting Assignment       V5 3rd   \n",
       "\n",
       "  org:resource org:role organization country organization involved  product  \\\n",
       "0     Frederic     A2_4                   fr           Org line A2  PROD582   \n",
       "1     Frederic     A2_4                   fr           Org line A2  PROD582   \n",
       "2     Frederic     A2_5                   fr           Org line A2  PROD582   \n",
       "3  Anne Claire     A2_5                   fr           Org line A2  PROD582   \n",
       "4  Anne Claire     A2_4                   fr           Org line A2  PROD582   \n",
       "5  Anne Claire     A2_5                   fr           Org line A2  PROD582   \n",
       "6  Anne Claire     A2_5                   fr           Org line A2  PROD582   \n",
       "7  Anne Claire     A2_4                   fr           Org line A2  PROD582   \n",
       "8         Eric     A2_4                   fr           Org line A2  PROD582   \n",
       "9         Eric     A2_5                   fr           Org line A2  PROD582   \n",
       "\n",
       "  resource country             time:timestamp  \n",
       "0           France  2010-03-31 16:59:42+02:00  \n",
       "1           France  2010-03-31 17:00:56+02:00  \n",
       "2           France  2010-03-31 17:45:48+02:00  \n",
       "3           France  2010-04-06 16:44:07+02:00  \n",
       "4           France  2010-04-06 16:44:38+02:00  \n",
       "5           France  2010-04-06 16:44:47+02:00  \n",
       "6           France  2010-04-06 16:44:51+02:00  \n",
       "7           France  2010-04-06 16:45:07+02:00  \n",
       "8           France  2010-04-08 12:52:23+02:00  \n",
       "9           France  2010-04-08 12:53:35+02:00  "
      ]
     },
     "execution_count": 20,
     "metadata": {},
     "output_type": "execute_result"
    }
   ],
   "source": [
    "df.head(10)"
   ]
  },
  {
   "cell_type": "markdown",
   "metadata": {},
   "source": [
    "# Feature Generation"
   ]
  },
  {
   "cell_type": "code",
   "execution_count": null,
   "metadata": {},
   "outputs": [],
   "source": [
    "add_event_type_representative(df)"
   ]
  },
  {
   "cell_type": "code",
   "execution_count": null,
   "metadata": {},
   "outputs": [],
   "source": [
    "add_event_ref(df, 1)\n",
    "add_event_ref(df, -1)\n",
    "determine_event_position(df)"
   ]
  },
  {
   "cell_type": "code",
   "execution_count": null,
   "metadata": {},
   "outputs": [],
   "source": [
    "add_timestamp_features(df)"
   ]
  },
  {
   "cell_type": "code",
   "execution_count": null,
   "metadata": {},
   "outputs": [],
   "source": [
    "df.to_csv('data/' + file_name +'_features.csv', index=False)"
   ]
  },
  {
   "cell_type": "markdown",
   "metadata": {},
   "source": [
    "# Encoding"
   ]
  },
  {
   "cell_type": "code",
   "execution_count": null,
   "metadata": {},
   "outputs": [],
   "source": [
    "df = preprocess(pd.read_csv('data/' + file_name +'_features.csv'))"
   ]
  },
  {
   "cell_type": "code",
   "execution_count": null,
   "metadata": {},
   "outputs": [],
   "source": [
    "df_name = tfidf_encode(df, 'concept:name', TfidfVectorizer(stop_words = 'english'))\n",
    "#df_act_name = tfidf_encode(df, 'activityNameEN', TfidfVectorizer(stop_words = 'english'))\n",
    "#df_resource = one_hot_encode(df, 'org:resource')\n",
    "#df_role = one_hot_encode(df, 'org:role')\n",
    "#df_event_position = df[['feature_pos_beginning', 'feature_pos_middle', 'feature_pos_end']]\n",
    "#df_time = binning(df, 'event_ref_time_1', 10)\n",
    "#df_time_of_day = df[['feature_time_00-06', 'feature_time_07-12', 'feature_time_13-18', 'feature_time_19-24']]"
   ]
  },
  {
   "cell_type": "code",
   "execution_count": null,
   "metadata": {},
   "outputs": [],
   "source": [
    "df_encoded = df_name\n",
    "#df_encoded = df_encoded.join(df_resource)\n",
    "#df_encoded = df_encoded.join(df[\"case:SUMleges\"].fillna(0))\n",
    "#df_encoded = df_encoded.join(df_act_name)\n",
    "#df_encoded = df_encoded.join(df_role)\n",
    "#df_encoded = df_encoded.join(df_event_position)\n",
    "#df_encoded = df_encoded.join(df_time)\n",
    "#df_encoded = df_encoded.join(df['feature_day_nr'])\n",
    "#df_encoded = df_encoded.join(df_time_of_day)"
   ]
  },
  {
   "cell_type": "code",
   "execution_count": null,
   "metadata": {},
   "outputs": [],
   "source": [
    "# file_name_structure: [Dataset-name]_[Feature-groups]_encoded.csv\n",
    "df_encoded.to_csv('data/' + file_name +'_name-cost-act-tod_encoded.csv', index=False)"
   ]
  },
  {
   "cell_type": "code",
   "execution_count": null,
   "metadata": {},
   "outputs": [],
   "source": [
    "df_encoded.columns"
   ]
  },
  {
   "cell_type": "code",
   "execution_count": null,
   "metadata": {
    "scrolled": false
   },
   "outputs": [],
   "source": [
    "df_encoded"
   ]
  }
 ],
 "metadata": {
  "kernelspec": {
   "display_name": "Python 3",
   "language": "python",
   "name": "python3"
  },
  "language_info": {
   "codemirror_mode": {
    "name": "ipython",
    "version": 3
   },
   "file_extension": ".py",
   "mimetype": "text/x-python",
   "name": "python",
   "nbconvert_exporter": "python",
   "pygments_lexer": "ipython3",
   "version": "3.7.3"
  }
 },
 "nbformat": 4,
 "nbformat_minor": 2
}
