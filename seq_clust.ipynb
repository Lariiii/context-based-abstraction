{
 "cells": [
  {
   "cell_type": "code",
   "execution_count": 1,
   "metadata": {},
   "outputs": [],
   "source": [
    "from pm4py.objects.log.importer.xes import importer as xes_importer"
   ]
  },
  {
   "cell_type": "code",
   "execution_count": 2,
   "metadata": {},
   "outputs": [
    {
     "data": {
      "application/vnd.jupyter.widget-view+json": {
       "model_id": "ab3ded23670b4f95b3d0fbc6b12817bc",
       "version_major": 2,
       "version_minor": 0
      },
      "text/html": [
       "<p>Failed to display Jupyter Widget of type <code>HBox</code>.</p>\n",
       "<p>\n",
       "  If you're reading this message in the Jupyter Notebook or JupyterLab Notebook, it may mean\n",
       "  that the widgets JavaScript is still loading. If this message persists, it\n",
       "  likely means that the widgets JavaScript library is either not installed or\n",
       "  not enabled. See the <a href=\"https://ipywidgets.readthedocs.io/en/stable/user_install.html\">Jupyter\n",
       "  Widgets Documentation</a> for setup instructions.\n",
       "</p>\n",
       "<p>\n",
       "  If you're reading this message in another frontend (for example, a static\n",
       "  rendering on GitHub or <a href=\"https://nbviewer.jupyter.org/\">NBViewer</a>),\n",
       "  it may mean that your frontend doesn't currently support widgets.\n",
       "</p>\n"
      ],
      "text/plain": [
       "HBox(children=(FloatProgress(value=0.0, description='parsing log, completed traces :: ', max=10500.0, style=ProgressStyle(description_width='initial')), HTML(value='')))"
      ]
     },
     "metadata": {},
     "output_type": "display_data"
    },
    {
     "name": "stdout",
     "output_type": "stream",
     "text": [
      "\n"
     ]
    }
   ],
   "source": [
    "filepath = \"data/\"\n",
    "\n",
    "log = xes_importer.apply(filepath + 'DomesticDeclarations.xes')"
   ]
  },
  {
   "cell_type": "markdown",
   "metadata": {},
   "source": [
    "### Example \"Domestic Declarations\" dataset from the BPI Challenge 2020:\n",
    "* contains events pertaining to two years of travel expense claims\n",
    "* contains 10,500 cases, 56,437 events\n",
    "* process flow: \n",
    "    * after submission by the employee, the request is sent for approval to the travel administration\n",
    "    * if approved, the request is then forwarded to the budget owner and after that to the supervisor\n",
    "    * if the budget owner and supervisor are the same person, then only one of these steps is taken\n",
    "    * in some cases, the director also needs to approve the request\n",
    "    * process finished with either the trip taking place or a payment being requested and payed.\n",
    "* for domestic trips, no prior permission is needed, i.e. an employee can undertake these trips and ask for reimbursement of the costs afterwards\n",
    "* to get the costs for a travel reimbursed, a claim is filed. This can be done as soon as costs are actually payed (for example for flights or conference registration fees), or within two months after the trip (for example hotel and food costs which are usually payed on the spot)"
   ]
  },
  {
   "cell_type": "code",
   "execution_count": 3,
   "metadata": {},
   "outputs": [
    {
     "name": "stdout",
     "output_type": "stream",
     "text": [
      "first trace of the log: \n",
      " {'attributes': {'id': 'declaration 86791', 'concept:name': 'declaration 86791', 'BudgetNumber': 'budget 86566', 'Amount': 26.85120450862128, 'DeclarationNumber': 'declaration number 86792'}, 'events': [{'id': 'st_step 86794_0', 'concept:name': 'Declaration SUBMITTED by EMPLOYEE', 'time:timestamp': datetime.datetime(2017, 1, 9, 9, 49, 50, tzinfo=datetime.timezone(datetime.timedelta(0, 3600))), 'org:role': 'EMPLOYEE', 'org:resource': 'STAFF MEMBER'}, '..', {'id': 'dd_declaration 86791_20', 'concept:name': 'Payment Handled', 'time:timestamp': datetime.datetime(2017, 1, 12, 17, 31, 22, tzinfo=datetime.timezone(datetime.timedelta(0, 3600))), 'org:role': 'UNDEFINED', 'org:resource': 'SYSTEM'}]} \n",
      "\n",
      "first event of the first trace: \n",
      " {'id': 'st_step 86794_0', 'concept:name': 'Declaration SUBMITTED by EMPLOYEE', 'time:timestamp': datetime.datetime(2017, 1, 9, 9, 49, 50, tzinfo=datetime.timezone(datetime.timedelta(0, 3600))), 'org:role': 'EMPLOYEE', 'org:resource': 'STAFF MEMBER'} \n",
      "\n"
     ]
    }
   ],
   "source": [
    "print(\"first trace of the log: \\n\", log[0], \"\\n\")\n",
    "print(\"first event of the first trace: \\n\", log[0][0], \"\\n\")"
   ]
  },
  {
   "cell_type": "code",
   "execution_count": 4,
   "metadata": {},
   "outputs": [
    {
     "data": {
      "text/plain": [
       "pm4py.objects.log.log.EventLog"
      ]
     },
     "execution_count": 4,
     "metadata": {},
     "output_type": "execute_result"
    }
   ],
   "source": [
    "type(log)"
   ]
  },
  {
   "cell_type": "markdown",
   "metadata": {},
   "source": [
    "Event Log (objects.log.log.EventLog): \n",
    "Represents a sequence of sequences of events. The concept of an event log is the more traditional view on event data, i.e., executions of a process are captured in traces of events."
   ]
  },
  {
   "cell_type": "markdown",
   "metadata": {},
   "source": [
    "### Preprocessing Stage:\n",
    "* extract activity IDs for all events in a trace"
   ]
  },
  {
   "cell_type": "code",
   "execution_count": 7,
   "metadata": {},
   "outputs": [
    {
     "data": {
      "text/plain": [
       "'Declaration SUBMITTED by EMPLOYEE'"
      ]
     },
     "execution_count": 7,
     "metadata": {},
     "output_type": "execute_result"
    }
   ],
   "source": [
    "log[0][0][\"concept:name\"]"
   ]
  },
  {
   "cell_type": "code",
   "execution_count": 29,
   "metadata": {},
   "outputs": [],
   "source": [
    "concept_dict = dict()\n",
    "\n",
    "for trace in log:\n",
    "    for event in trace:\n",
    "        name = event[\"concept:name\"]\n",
    "        if name in concept_dict:\n",
    "            concept_dict[name] += 1\n",
    "        else:\n",
    "            concept_dict[name] = 1"
   ]
  },
  {
   "cell_type": "code",
   "execution_count": 30,
   "metadata": {},
   "outputs": [
    {
     "name": "stdout",
     "output_type": "stream",
     "text": [
      "17\n"
     ]
    }
   ],
   "source": [
    "print(len(concept_dict))"
   ]
  },
  {
   "cell_type": "code",
   "execution_count": 31,
   "metadata": {},
   "outputs": [
    {
     "name": "stdout",
     "output_type": "stream",
     "text": [
      "{'Payment Handled': 10044, 'Declaration APPROVED by PRE_APPROVER': 685, 'Declaration FOR_APPROVAL by ADMINISTRATION': 1, 'Declaration REJECTED by ADMINISTRATION': 952, 'Declaration FOR_APPROVAL by PRE_APPROVER': 1, 'Declaration REJECTED by SUPERVISOR': 293, 'Declaration REJECTED by PRE_APPROVER': 86, 'Declaration FINAL_APPROVED by SUPERVISOR': 10131, 'Declaration REJECTED by EMPLOYEE': 1365, 'Declaration REJECTED by BUDGET OWNER': 59, 'Declaration SAVED by EMPLOYEE': 135, 'Declaration SUBMITTED by EMPLOYEE': 11531, 'Declaration FOR_APPROVAL by SUPERVISOR': 1, 'Request Payment': 10040, 'Declaration REJECTED by MISSING': 91, 'Declaration APPROVED by ADMINISTRATION': 8202, 'Declaration APPROVED by BUDGET OWNER': 2820}\n"
     ]
    }
   ],
   "source": [
    "print(concept_dict)"
   ]
  },
  {
   "cell_type": "code",
   "execution_count": 32,
   "metadata": {},
   "outputs": [],
   "source": [
    "trace_activities_id = list()\n",
    "\n",
    "for trace in log:\n",
    "    event_list = list()\n",
    "    for event in trace:\n",
    "        name = event[\"concept:name\"]\n",
    "        event_list.append(name)\n",
    "    trace_activities_id.append(event_list)"
   ]
  },
  {
   "cell_type": "code",
   "execution_count": 35,
   "metadata": {},
   "outputs": [
    {
     "data": {
      "text/plain": [
       "[['Declaration SUBMITTED by EMPLOYEE',\n",
       "  'Declaration FINAL_APPROVED by SUPERVISOR',\n",
       "  'Request Payment',\n",
       "  'Payment Handled'],\n",
       " ['Declaration SUBMITTED by EMPLOYEE',\n",
       "  'Declaration APPROVED by PRE_APPROVER',\n",
       "  'Declaration FINAL_APPROVED by SUPERVISOR',\n",
       "  'Request Payment',\n",
       "  'Payment Handled'],\n",
       " ['Declaration SUBMITTED by EMPLOYEE',\n",
       "  'Declaration APPROVED by PRE_APPROVER',\n",
       "  'Declaration FINAL_APPROVED by SUPERVISOR',\n",
       "  'Request Payment',\n",
       "  'Payment Handled'],\n",
       " ['Declaration SUBMITTED by EMPLOYEE',\n",
       "  'Declaration FINAL_APPROVED by SUPERVISOR',\n",
       "  'Request Payment',\n",
       "  'Payment Handled'],\n",
       " ['Declaration SUBMITTED by EMPLOYEE',\n",
       "  'Declaration FINAL_APPROVED by SUPERVISOR',\n",
       "  'Request Payment',\n",
       "  'Payment Handled']]"
      ]
     },
     "execution_count": 35,
     "metadata": {},
     "output_type": "execute_result"
    }
   ],
   "source": [
    "trace_activities_id[:5]"
   ]
  },
  {
   "cell_type": "code",
   "execution_count": null,
   "metadata": {},
   "outputs": [],
   "source": []
  }
 ],
 "metadata": {
  "kernelspec": {
   "display_name": "Python 3",
   "language": "python",
   "name": "python3"
  },
  "language_info": {
   "codemirror_mode": {
    "name": "ipython",
    "version": 3
   },
   "file_extension": ".py",
   "mimetype": "text/x-python",
   "name": "python",
   "nbconvert_exporter": "python",
   "pygments_lexer": "ipython3",
   "version": "3.5.2"
  }
 },
 "nbformat": 4,
 "nbformat_minor": 2
}
