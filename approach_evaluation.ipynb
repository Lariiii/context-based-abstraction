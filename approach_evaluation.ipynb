{
 "cells": [
  {
   "cell_type": "code",
   "execution_count": 1,
   "metadata": {},
   "outputs": [],
   "source": [
    "#reload source files automatically\n",
    "%load_ext autoreload\n",
    "%autoreload 2"
   ]
  },
  {
   "cell_type": "code",
   "execution_count": 125,
   "metadata": {},
   "outputs": [],
   "source": [
    "import pandas as pd\n",
    "import matplotlib.pyplot as plt\n",
    "\n",
    "from event_clustering.preprocessing import *\n",
    "from event_clustering.clustering import *\n",
    "from event_clustering.postprocessing import *\n",
    "from event_clustering.process_mining import *\n",
    "\n",
    "from sklearn.cluster import *\n",
    "from sklearn.model_selection import train_test_split\n",
    "from sklearn import svm\n",
    "from sklearn.linear_model import LogisticRegression\n",
    "from sklearn.neighbors import KNeighborsClassifier\n",
    "from sklearn.naive_bayes import GaussianNB\n",
    "from sklearn.metrics import classification_report, confusion_matrix, accuracy_score\n",
    "import sklearn.metrics as metrics\n",
    "import sklearn.metrics.cluster as cluster_metrics\n",
    "\n",
    "import scipy.cluster.hierarchy as sch"
   ]
  },
  {
   "cell_type": "markdown",
   "metadata": {},
   "source": [
    "# Load Encoded Events"
   ]
  },
  {
   "cell_type": "code",
   "execution_count": 14,
   "metadata": {},
   "outputs": [],
   "source": [
    "file_name = 'DomesticDeclarations'\n",
    "df = preprocess(load('data/' + file_name + '.xes'))\n",
    "df_encoded = pd.read_csv('data/' + file_name + '_name-role_encoded.csv')\n",
    "original_df_columns = df.columns"
   ]
  },
  {
   "cell_type": "markdown",
   "metadata": {},
   "source": [
    "# Clustering"
   ]
  },
  {
   "cell_type": "markdown",
   "metadata": {},
   "source": [
    "### KMeans"
   ]
  },
  {
   "cell_type": "code",
   "execution_count": 4,
   "metadata": {},
   "outputs": [
    {
     "name": "stdout",
     "output_type": "stream",
     "text": [
      "Fit 2 clusters\n",
      "Fit 4 clusters\n",
      "Fit 6 clusters\n",
      "Fit 8 clusters\n",
      "Fit 10 clusters\n"
     ]
    },
    {
     "data": {
      "image/png": "[encoded data removed]",
      "text/plain": [
       "<Figure size 432x288 with 1 Axes>"
      ]
     },
     "metadata": {
      "needs_background": "light"
     },
     "output_type": "display_data"
    }
   ],
   "source": [
    "find_optimal_clusters(df_encoded, 10)"
   ]
  },
  {
   "cell_type": "code",
   "execution_count": 15,
   "metadata": {},
   "outputs": [],
   "source": [
    "cluster_nr = 6\n",
    "km = MiniBatchKMeans(n_clusters=cluster_nr, init_size=1024, batch_size=2048, random_state=20)\n",
    "cluster_labels = km.fit_predict(df_encoded)"
   ]
  },
  {
   "cell_type": "markdown",
   "metadata": {},
   "source": [
    "### Hierarchical Clustering"
   ]
  },
  {
   "cell_type": "code",
   "execution_count": null,
   "metadata": {},
   "outputs": [],
   "source": [
    "# setting distance_threshold=0 ensures we compute the full tree.\n",
    "hier_dendogram = AgglomerativeClustering(distance_threshold=0, n_clusters=None, linkage = \"single\").fit(df_encoded)\n",
    "\n",
    "# Plot the corresponding dendrogram\n",
    "plt.figure(figsize=(25, 10))\n",
    "plt.title('Hierarchical Clustering Dendrogram')\n",
    "#plot_dendrogram(hier_dendogram, truncate_mode='level', p=5)\n",
    "plt.xlabel(\"Sample Index or (Cluster Size)\")\n",
    "plt.ylabel(\"Distance\")\n",
    "plt.show()\n",
    "\n",
    "plt.figure(figsize=(25, 10))\n",
    "plt.title('Hierarchical Clustering Dendrogram')\n",
    "plot_dendrogram(hier_dendogram, truncate_mode='level', p=40)\n",
    "plt.xlabel(\"Sample Index or (Cluster Size)\")\n",
    "plt.ylabel(\"Distance\")\n",
    "plt.show()"
   ]
  },
  {
   "cell_type": "code",
   "execution_count": 14,
   "metadata": {},
   "outputs": [],
   "source": [
    "# --> determine amount of clusters\n",
    "agg_clusters = 3\n",
    "hier = AgglomerativeClustering(n_clusters=agg_clusters, linkage=\"single\").fit(df_encoded)\n",
    "cluster_labels = hier.labels_"
   ]
  },
  {
   "cell_type": "markdown",
   "metadata": {},
   "source": [
    "## Evaluation"
   ]
  },
  {
   "cell_type": "code",
   "execution_count": 6,
   "metadata": {},
   "outputs": [
    {
     "data": {
      "image/png": "[encoded data removed]",
      "text/plain": [
       "<Figure size 432x288 with 1 Axes>"
      ]
     },
     "metadata": {
      "needs_background": "light"
     },
     "output_type": "display_data"
    }
   ],
   "source": [
    "plot_pca(df_encoded, cluster_labels, cluster_nr)"
   ]
  },
  {
   "cell_type": "code",
   "execution_count": 7,
   "metadata": {},
   "outputs": [
    {
     "name": "stdout",
     "output_type": "stream",
     "text": [
      "Completeness KMeans:  0.9999999999999994\n",
      "Silhouette Coefficient KMeans:  0.9238737704290397\n"
     ]
    }
   ],
   "source": [
    "print(\"Completeness KMeans: \", metrics.completeness_score(df['concept:name'], cluster_labels))\n",
    "print(\"Silhouette Coefficient KMeans: \", metrics.silhouette_score(df_encoded, cluster_labels))"
   ]
  },
  {
   "cell_type": "code",
   "execution_count": 16,
   "metadata": {},
   "outputs": [],
   "source": [
    "df['cluster_label'] = cluster_labels"
   ]
  },
  {
   "cell_type": "markdown",
   "metadata": {},
   "source": [
    "## Check cluster labels \"manually\""
   ]
  },
  {
   "cell_type": "code",
   "execution_count": 17,
   "metadata": {},
   "outputs": [],
   "source": [
    "# group by cluster label and aggregate concept:name\n",
    "eval_manually = df.groupby('cluster_label')['concept:name'].apply(set)"
   ]
  },
  {
   "cell_type": "code",
   "execution_count": 18,
   "metadata": {},
   "outputs": [
    {
     "name": "stderr",
     "output_type": "stream",
     "text": [
      "/home/larissa/.local/lib/python3.7/site-packages/ipykernel_launcher.py:1: FutureWarning: Passing a negative integer is deprecated in version 1.0 and will not be supported in future version. Instead, use None to not limit the column width.\n",
      "  \"\"\"Entry point for launching an IPython kernel.\n"
     ]
    },
    {
     "data": {
      "text/plain": [
       "cluster_label\n",
       "0    {Request Payment}                                                                                                                                                                                                                                                                  \n",
       "1    {Declaration REJECTED by SUPERVISOR, Declaration FINAL_APPROVED by SUPERVISOR, Declaration FOR_APPROVAL by SUPERVISOR}                                                                                                                                                             \n",
       "2    {Declaration REJECTED by EMPLOYEE, Declaration SUBMITTED by EMPLOYEE, Declaration SAVED by EMPLOYEE}                                                                                                                                                                               \n",
       "3    {Declaration APPROVED by ADMINISTRATION, Declaration APPROVED by PRE_APPROVER, Declaration REJECTED by PRE_APPROVER, Declaration REJECTED by MISSING, Declaration FOR_APPROVAL by PRE_APPROVER, Declaration FOR_APPROVAL by ADMINISTRATION, Declaration REJECTED by ADMINISTRATION}\n",
       "4    {Payment Handled}                                                                                                                                                                                                                                                                  \n",
       "5    {Declaration REJECTED by BUDGET OWNER, Declaration APPROVED by BUDGET OWNER}                                                                                                                                                                                                       \n",
       "Name: concept:name, dtype: object"
      ]
     },
     "execution_count": 18,
     "metadata": {},
     "output_type": "execute_result"
    }
   ],
   "source": [
    "pd.set_option('display.max_colwidth', -1)\n",
    "eval_manually"
   ]
  },
  {
   "cell_type": "markdown",
   "metadata": {},
   "source": [
    "## Use Supervised Approach"
   ]
  },
  {
   "cell_type": "code",
   "execution_count": 73,
   "metadata": {},
   "outputs": [
    {
     "data": {
      "image/svg+xml": [
       "<?xml version=\"1.0\" encoding=\"UTF-8\" standalone=\"no\"?>\n",
       "<!DOCTYPE svg PUBLIC \"-//W3C//DTD SVG 1.1//EN\"\n",
       " \"http://www.w3.org/Graphics/SVG/1.1/DTD/svg11.dtd\">\n",
       "<!-- Generated by graphviz version 2.38.0 (20140413.2041)\n",
       " -->\n",
       "<!-- Title: Tree Pages: 1 -->\n",
       "<svg width=\"899pt\" height=\"671pt\"\n",
       " viewBox=\"0.00 0.00 899.00 671.00\" xmlns=\"http://www.w3.org/2000/svg\" xmlns:xlink=\"http://www.w3.org/1999/xlink\">\n",
       "<g id=\"graph0\" class=\"graph\" transform=\"scale(1 1) rotate(0) translate(4 667)\">\n",
       "<title>Tree</title>\n",
       "<polygon fill=\"white\" stroke=\"none\" points=\"-4,4 -4,-667 895,-667 895,4 -4,4\"/>\n",
       "<!-- 0 -->\n",
       "<g id=\"node1\" class=\"node\"><title>0</title>\n",
       "<path fill=\"#f4fef8\" stroke=\"black\" d=\"M820,-663C820,-663 517,-663 517,-663 511,-663 505,-657 505,-651 505,-651 505,-592 505,-592 505,-586 511,-580 517,-580 517,-580 820,-580 820,-580 826,-580 832,-586 832,-592 832,-592 832,-651 832,-651 832,-657 826,-663 820,-663\"/>\n",
       "<text text-anchor=\"middle\" x=\"668.5\" y=\"-647.8\" font-family=\"Helvetica,sans-Serif\" font-size=\"14.00\">org:role_EMPLOYEE &lt;= 0.5</text>\n",
       "<text text-anchor=\"middle\" x=\"668.5\" y=\"-632.8\" font-family=\"Helvetica,sans-Serif\" font-size=\"14.00\">gini = 0.815</text>\n",
       "<text text-anchor=\"middle\" x=\"668.5\" y=\"-617.8\" font-family=\"Helvetica,sans-Serif\" font-size=\"14.00\">samples = 56437</text>\n",
       "<text text-anchor=\"middle\" x=\"668.5\" y=\"-602.8\" font-family=\"Helvetica,sans-Serif\" font-size=\"14.00\">value = [10040, 10425, 13031, 10018, 10044, 2879]</text>\n",
       "<text text-anchor=\"middle\" x=\"668.5\" y=\"-587.8\" font-family=\"Helvetica,sans-Serif\" font-size=\"14.00\">class = y[2]</text>\n",
       "</g>\n",
       "<!-- 1 -->\n",
       "<g id=\"node2\" class=\"node\"><title>1</title>\n",
       "<path fill=\"#fefffd\" stroke=\"black\" d=\"M676,-544C676,-544 403,-544 403,-544 397,-544 391,-538 391,-532 391,-532 391,-473 391,-473 391,-467 397,-461 403,-461 403,-461 676,-461 676,-461 682,-461 688,-467 688,-473 688,-473 688,-532 688,-532 688,-538 682,-544 676,-544\"/>\n",
       "<text text-anchor=\"middle\" x=\"539.5\" y=\"-528.8\" font-family=\"Helvetica,sans-Serif\" font-size=\"14.00\">concept:name_supervisor &lt;= 0.122</text>\n",
       "<text text-anchor=\"middle\" x=\"539.5\" y=\"-513.8\" font-family=\"Helvetica,sans-Serif\" font-size=\"14.00\">gini = 0.778</text>\n",
       "<text text-anchor=\"middle\" x=\"539.5\" y=\"-498.8\" font-family=\"Helvetica,sans-Serif\" font-size=\"14.00\">samples = 43406</text>\n",
       "<text text-anchor=\"middle\" x=\"539.5\" y=\"-483.8\" font-family=\"Helvetica,sans-Serif\" font-size=\"14.00\">value = [10040, 10425, 0, 10018, 10044, 2879]</text>\n",
       "<text text-anchor=\"middle\" x=\"539.5\" y=\"-468.8\" font-family=\"Helvetica,sans-Serif\" font-size=\"14.00\">class = y[1]</text>\n",
       "</g>\n",
       "<!-- 0&#45;&gt;1 -->\n",
       "<g id=\"edge1\" class=\"edge\"><title>0&#45;&gt;1</title>\n",
       "<path fill=\"none\" stroke=\"black\" d=\"M623.744,-579.907C613.438,-570.56 602.388,-560.538 591.793,-550.929\"/>\n",
       "<polygon fill=\"black\" stroke=\"black\" points=\"593.935,-548.146 584.177,-544.021 589.233,-553.332 593.935,-548.146\"/>\n",
       "<text text-anchor=\"middle\" x=\"585.395\" y=\"-565.291\" font-family=\"Helvetica,sans-Serif\" font-size=\"14.00\">True</text>\n",
       "</g>\n",
       "<!-- 10 -->\n",
       "<g id=\"node11\" class=\"node\"><title>10</title>\n",
       "<path fill=\"#39e581\" stroke=\"black\" d=\"M879,-536.5C879,-536.5 718,-536.5 718,-536.5 712,-536.5 706,-530.5 706,-524.5 706,-524.5 706,-480.5 706,-480.5 706,-474.5 712,-468.5 718,-468.5 718,-468.5 879,-468.5 879,-468.5 885,-468.5 891,-474.5 891,-480.5 891,-480.5 891,-524.5 891,-524.5 891,-530.5 885,-536.5 879,-536.5\"/>\n",
       "<text text-anchor=\"middle\" x=\"798.5\" y=\"-521.3\" font-family=\"Helvetica,sans-Serif\" font-size=\"14.00\">gini = 0.0</text>\n",
       "<text text-anchor=\"middle\" x=\"798.5\" y=\"-506.3\" font-family=\"Helvetica,sans-Serif\" font-size=\"14.00\">samples = 13031</text>\n",
       "<text text-anchor=\"middle\" x=\"798.5\" y=\"-491.3\" font-family=\"Helvetica,sans-Serif\" font-size=\"14.00\">value = [0, 0, 13031, 0, 0, 0]</text>\n",
       "<text text-anchor=\"middle\" x=\"798.5\" y=\"-476.3\" font-family=\"Helvetica,sans-Serif\" font-size=\"14.00\">class = y[2]</text>\n",
       "</g>\n",
       "<!-- 0&#45;&gt;10 -->\n",
       "<g id=\"edge10\" class=\"edge\"><title>0&#45;&gt;10</title>\n",
       "<path fill=\"none\" stroke=\"black\" d=\"M713.603,-579.907C726.722,-568.101 741.037,-555.217 754.112,-543.45\"/>\n",
       "<polygon fill=\"black\" stroke=\"black\" points=\"756.556,-545.958 761.648,-536.667 751.873,-540.755 756.556,-545.958\"/>\n",
       "<text text-anchor=\"middle\" x=\"760.334\" y=\"-557.932\" font-family=\"Helvetica,sans-Serif\" font-size=\"14.00\">False</text>\n",
       "</g>\n",
       "<!-- 2 -->\n",
       "<g id=\"node3\" class=\"node\"><title>2</title>\n",
       "<path fill=\"#ffffff\" stroke=\"black\" d=\"M539,-425C539,-425 296,-425 296,-425 290,-425 284,-419 284,-413 284,-413 284,-354 284,-354 284,-348 290,-342 296,-342 296,-342 539,-342 539,-342 545,-342 551,-348 551,-354 551,-354 551,-413 551,-413 551,-419 545,-425 539,-425\"/>\n",
       "<text text-anchor=\"middle\" x=\"417.5\" y=\"-409.8\" font-family=\"Helvetica,sans-Serif\" font-size=\"14.00\">concept:name_payment &lt;= 0.598</text>\n",
       "<text text-anchor=\"middle\" x=\"417.5\" y=\"-394.8\" font-family=\"Helvetica,sans-Serif\" font-size=\"14.00\">gini = 0.715</text>\n",
       "<text text-anchor=\"middle\" x=\"417.5\" y=\"-379.8\" font-family=\"Helvetica,sans-Serif\" font-size=\"14.00\">samples = 32981</text>\n",
       "<text text-anchor=\"middle\" x=\"417.5\" y=\"-364.8\" font-family=\"Helvetica,sans-Serif\" font-size=\"14.00\">value = [10040, 0, 0, 10018, 10044, 2879]</text>\n",
       "<text text-anchor=\"middle\" x=\"417.5\" y=\"-349.8\" font-family=\"Helvetica,sans-Serif\" font-size=\"14.00\">class = y[4]</text>\n",
       "</g>\n",
       "<!-- 1&#45;&gt;2 -->\n",
       "<g id=\"edge2\" class=\"edge\"><title>1&#45;&gt;2</title>\n",
       "<path fill=\"none\" stroke=\"black\" d=\"M497.173,-460.907C487.521,-451.651 477.178,-441.732 467.248,-432.209\"/>\n",
       "<polygon fill=\"black\" stroke=\"black\" points=\"469.392,-429.416 459.752,-425.021 464.547,-434.469 469.392,-429.416\"/>\n",
       "</g>\n",
       "<!-- 9 -->\n",
       "<g id=\"node10\" class=\"node\"><title>9</title>\n",
       "<path fill=\"#9de539\" stroke=\"black\" d=\"M742,-417.5C742,-417.5 581,-417.5 581,-417.5 575,-417.5 569,-411.5 569,-405.5 569,-405.5 569,-361.5 569,-361.5 569,-355.5 575,-349.5 581,-349.5 581,-349.5 742,-349.5 742,-349.5 748,-349.5 754,-355.5 754,-361.5 754,-361.5 754,-405.5 754,-405.5 754,-411.5 748,-417.5 742,-417.5\"/>\n",
       "<text text-anchor=\"middle\" x=\"661.5\" y=\"-402.3\" font-family=\"Helvetica,sans-Serif\" font-size=\"14.00\">gini = 0.0</text>\n",
       "<text text-anchor=\"middle\" x=\"661.5\" y=\"-387.3\" font-family=\"Helvetica,sans-Serif\" font-size=\"14.00\">samples = 10425</text>\n",
       "<text text-anchor=\"middle\" x=\"661.5\" y=\"-372.3\" font-family=\"Helvetica,sans-Serif\" font-size=\"14.00\">value = [0, 10425, 0, 0, 0, 0]</text>\n",
       "<text text-anchor=\"middle\" x=\"661.5\" y=\"-357.3\" font-family=\"Helvetica,sans-Serif\" font-size=\"14.00\">class = y[1]</text>\n",
       "</g>\n",
       "<!-- 1&#45;&gt;9 -->\n",
       "<g id=\"edge9\" class=\"edge\"><title>1&#45;&gt;9</title>\n",
       "<path fill=\"none\" stroke=\"black\" d=\"M581.827,-460.907C594.024,-449.211 607.322,-436.457 619.499,-424.78\"/>\n",
       "<polygon fill=\"black\" stroke=\"black\" points=\"622.121,-427.115 626.916,-417.667 617.276,-422.062 622.121,-427.115\"/>\n",
       "</g>\n",
       "<!-- 3 -->\n",
       "<g id=\"node4\" class=\"node\"><title>3</title>\n",
       "<path fill=\"#ffffff\" stroke=\"black\" d=\"M410,-306C410,-306 197,-306 197,-306 191,-306 185,-300 185,-294 185,-294 185,-235 185,-235 185,-229 191,-223 197,-223 197,-223 410,-223 410,-223 416,-223 422,-229 422,-235 422,-235 422,-294 422,-294 422,-300 416,-306 410,-306\"/>\n",
       "<text text-anchor=\"middle\" x=\"303.5\" y=\"-290.8\" font-family=\"Helvetica,sans-Serif\" font-size=\"14.00\">org:role_UNDEFINED &lt;= 0.5</text>\n",
       "<text text-anchor=\"middle\" x=\"303.5\" y=\"-275.8\" font-family=\"Helvetica,sans-Serif\" font-size=\"14.00\">gini = 0.602</text>\n",
       "<text text-anchor=\"middle\" x=\"303.5\" y=\"-260.8\" font-family=\"Helvetica,sans-Serif\" font-size=\"14.00\">samples = 22937</text>\n",
       "<text text-anchor=\"middle\" x=\"303.5\" y=\"-245.8\" font-family=\"Helvetica,sans-Serif\" font-size=\"14.00\">value = [10040, 0, 0, 10018, 0, 2879]</text>\n",
       "<text text-anchor=\"middle\" x=\"303.5\" y=\"-230.8\" font-family=\"Helvetica,sans-Serif\" font-size=\"14.00\">class = y[0]</text>\n",
       "</g>\n",
       "<!-- 2&#45;&gt;3 -->\n",
       "<g id=\"edge3\" class=\"edge\"><title>2&#45;&gt;3</title>\n",
       "<path fill=\"none\" stroke=\"black\" d=\"M377.948,-341.907C368.929,-332.651 359.265,-322.732 349.986,-313.209\"/>\n",
       "<polygon fill=\"black\" stroke=\"black\" points=\"352.467,-310.741 342.982,-306.021 347.454,-315.626 352.467,-310.741\"/>\n",
       "</g>\n",
       "<!-- 8 -->\n",
       "<g id=\"node9\" class=\"node\"><title>8</title>\n",
       "<path fill=\"#8139e5\" stroke=\"black\" d=\"M613,-298.5C613,-298.5 452,-298.5 452,-298.5 446,-298.5 440,-292.5 440,-286.5 440,-286.5 440,-242.5 440,-242.5 440,-236.5 446,-230.5 452,-230.5 452,-230.5 613,-230.5 613,-230.5 619,-230.5 625,-236.5 625,-242.5 625,-242.5 625,-286.5 625,-286.5 625,-292.5 619,-298.5 613,-298.5\"/>\n",
       "<text text-anchor=\"middle\" x=\"532.5\" y=\"-283.3\" font-family=\"Helvetica,sans-Serif\" font-size=\"14.00\">gini = 0.0</text>\n",
       "<text text-anchor=\"middle\" x=\"532.5\" y=\"-268.3\" font-family=\"Helvetica,sans-Serif\" font-size=\"14.00\">samples = 10044</text>\n",
       "<text text-anchor=\"middle\" x=\"532.5\" y=\"-253.3\" font-family=\"Helvetica,sans-Serif\" font-size=\"14.00\">value = [0, 0, 0, 0, 10044, 0]</text>\n",
       "<text text-anchor=\"middle\" x=\"532.5\" y=\"-238.3\" font-family=\"Helvetica,sans-Serif\" font-size=\"14.00\">class = y[4]</text>\n",
       "</g>\n",
       "<!-- 2&#45;&gt;8 -->\n",
       "<g id=\"edge8\" class=\"edge\"><title>2&#45;&gt;8</title>\n",
       "<path fill=\"none\" stroke=\"black\" d=\"M457.399,-341.907C468.787,-330.321 481.194,-317.698 492.584,-306.111\"/>\n",
       "<polygon fill=\"black\" stroke=\"black\" points=\"495.386,-308.252 499.9,-298.667 490.394,-303.345 495.386,-308.252\"/>\n",
       "</g>\n",
       "<!-- 4 -->\n",
       "<g id=\"node5\" class=\"node\"><title>4</title>\n",
       "<path fill=\"#72b9ec\" stroke=\"black\" d=\"M293,-187C293,-187 90,-187 90,-187 84,-187 78,-181 78,-175 78,-175 78,-116 78,-116 78,-110 84,-104 90,-104 90,-104 293,-104 293,-104 299,-104 305,-110 305,-116 305,-116 305,-175 305,-175 305,-181 299,-187 293,-187\"/>\n",
       "<text text-anchor=\"middle\" x=\"191.5\" y=\"-171.8\" font-family=\"Helvetica,sans-Serif\" font-size=\"14.00\">org:role_BUDGET OWNER &lt;= 0.5</text>\n",
       "<text text-anchor=\"middle\" x=\"191.5\" y=\"-156.8\" font-family=\"Helvetica,sans-Serif\" font-size=\"14.00\">gini = 0.347</text>\n",
       "<text text-anchor=\"middle\" x=\"191.5\" y=\"-141.8\" font-family=\"Helvetica,sans-Serif\" font-size=\"14.00\">samples = 12897</text>\n",
       "<text text-anchor=\"middle\" x=\"191.5\" y=\"-126.8\" font-family=\"Helvetica,sans-Serif\" font-size=\"14.00\">value = [0, 0, 0, 10018, 0, 2879]</text>\n",
       "<text text-anchor=\"middle\" x=\"191.5\" y=\"-111.8\" font-family=\"Helvetica,sans-Serif\" font-size=\"14.00\">class = y[3]</text>\n",
       "</g>\n",
       "<!-- 3&#45;&gt;4 -->\n",
       "<g id=\"edge4\" class=\"edge\"><title>3&#45;&gt;4</title>\n",
       "<path fill=\"none\" stroke=\"black\" d=\"M264.642,-222.907C255.868,-213.742 246.472,-203.927 237.438,-194.489\"/>\n",
       "<polygon fill=\"black\" stroke=\"black\" points=\"239.733,-191.824 230.289,-187.021 234.676,-196.665 239.733,-191.824\"/>\n",
       "</g>\n",
       "<!-- 7 -->\n",
       "<g id=\"node8\" class=\"node\"><title>7</title>\n",
       "<path fill=\"#e58139\" stroke=\"black\" d=\"M496,-179.5C496,-179.5 335,-179.5 335,-179.5 329,-179.5 323,-173.5 323,-167.5 323,-167.5 323,-123.5 323,-123.5 323,-117.5 329,-111.5 335,-111.5 335,-111.5 496,-111.5 496,-111.5 502,-111.5 508,-117.5 508,-123.5 508,-123.5 508,-167.5 508,-167.5 508,-173.5 502,-179.5 496,-179.5\"/>\n",
       "<text text-anchor=\"middle\" x=\"415.5\" y=\"-164.3\" font-family=\"Helvetica,sans-Serif\" font-size=\"14.00\">gini = 0.0</text>\n",
       "<text text-anchor=\"middle\" x=\"415.5\" y=\"-149.3\" font-family=\"Helvetica,sans-Serif\" font-size=\"14.00\">samples = 10040</text>\n",
       "<text text-anchor=\"middle\" x=\"415.5\" y=\"-134.3\" font-family=\"Helvetica,sans-Serif\" font-size=\"14.00\">value = [10040, 0, 0, 0, 0, 0]</text>\n",
       "<text text-anchor=\"middle\" x=\"415.5\" y=\"-119.3\" font-family=\"Helvetica,sans-Serif\" font-size=\"14.00\">class = y[0]</text>\n",
       "</g>\n",
       "<!-- 3&#45;&gt;7 -->\n",
       "<g id=\"edge7\" class=\"edge\"><title>3&#45;&gt;7</title>\n",
       "<path fill=\"none\" stroke=\"black\" d=\"M342.358,-222.907C353.449,-211.321 365.533,-198.698 376.625,-187.111\"/>\n",
       "<polygon fill=\"black\" stroke=\"black\" points=\"379.364,-189.311 383.75,-179.667 374.307,-184.47 379.364,-189.311\"/>\n",
       "</g>\n",
       "<!-- 5 -->\n",
       "<g id=\"node6\" class=\"node\"><title>5</title>\n",
       "<path fill=\"#399de5\" stroke=\"black\" d=\"M173,-68C173,-68 12,-68 12,-68 6,-68 1.42109e-14,-62 1.42109e-14,-56 1.42109e-14,-56 1.42109e-14,-12 1.42109e-14,-12 1.42109e-14,-6 6,-0 12,-0 12,-0 173,-0 173,-0 179,-0 185,-6 185,-12 185,-12 185,-56 185,-56 185,-62 179,-68 173,-68\"/>\n",
       "<text text-anchor=\"middle\" x=\"92.5\" y=\"-52.8\" font-family=\"Helvetica,sans-Serif\" font-size=\"14.00\">gini = 0.0</text>\n",
       "<text text-anchor=\"middle\" x=\"92.5\" y=\"-37.8\" font-family=\"Helvetica,sans-Serif\" font-size=\"14.00\">samples = 10018</text>\n",
       "<text text-anchor=\"middle\" x=\"92.5\" y=\"-22.8\" font-family=\"Helvetica,sans-Serif\" font-size=\"14.00\">value = [0, 0, 0, 10018, 0, 0]</text>\n",
       "<text text-anchor=\"middle\" x=\"92.5\" y=\"-7.8\" font-family=\"Helvetica,sans-Serif\" font-size=\"14.00\">class = y[3]</text>\n",
       "</g>\n",
       "<!-- 4&#45;&gt;5 -->\n",
       "<g id=\"edge5\" class=\"edge\"><title>4&#45;&gt;5</title>\n",
       "<path fill=\"none\" stroke=\"black\" d=\"M154.636,-103.726C146.39,-94.6054 137.642,-84.93 129.395,-75.8078\"/>\n",
       "<polygon fill=\"black\" stroke=\"black\" points=\"131.909,-73.3701 122.606,-68.2996 126.717,-78.0647 131.909,-73.3701\"/>\n",
       "</g>\n",
       "<!-- 6 -->\n",
       "<g id=\"node7\" class=\"node\"><title>6</title>\n",
       "<path fill=\"#e5399d\" stroke=\"black\" d=\"M368,-68C368,-68 215,-68 215,-68 209,-68 203,-62 203,-56 203,-56 203,-12 203,-12 203,-6 209,-0 215,-0 215,-0 368,-0 368,-0 374,-0 380,-6 380,-12 380,-12 380,-56 380,-56 380,-62 374,-68 368,-68\"/>\n",
       "<text text-anchor=\"middle\" x=\"291.5\" y=\"-52.8\" font-family=\"Helvetica,sans-Serif\" font-size=\"14.00\">gini = 0.0</text>\n",
       "<text text-anchor=\"middle\" x=\"291.5\" y=\"-37.8\" font-family=\"Helvetica,sans-Serif\" font-size=\"14.00\">samples = 2879</text>\n",
       "<text text-anchor=\"middle\" x=\"291.5\" y=\"-22.8\" font-family=\"Helvetica,sans-Serif\" font-size=\"14.00\">value = [0, 0, 0, 0, 0, 2879]</text>\n",
       "<text text-anchor=\"middle\" x=\"291.5\" y=\"-7.8\" font-family=\"Helvetica,sans-Serif\" font-size=\"14.00\">class = y[5]</text>\n",
       "</g>\n",
       "<!-- 4&#45;&gt;6 -->\n",
       "<g id=\"edge6\" class=\"edge\"><title>4&#45;&gt;6</title>\n",
       "<path fill=\"none\" stroke=\"black\" d=\"M228.736,-103.726C237.066,-94.6054 245.902,-84.93 254.233,-75.8078\"/>\n",
       "<polygon fill=\"black\" stroke=\"black\" points=\"256.93,-78.044 261.089,-68.2996 251.761,-73.3235 256.93,-78.044\"/>\n",
       "</g>\n",
       "</g>\n",
       "</svg>\n"
      ],
      "text/plain": [
       "<graphviz.files.Source at 0x7faad4bcceb8>"
      ]
     },
     "execution_count": 73,
     "metadata": {},
     "output_type": "execute_result"
    }
   ],
   "source": [
    "# encode the trained features again for supervised evaluation\n",
    "df_name = tfidf_encode(df, 'concept:name', TfidfVectorizer(stop_words = 'english'))\n",
    "df_role = one_hot_encode(df, 'org:role')\n",
    "\n",
    "X = df_name.join(df_role)\n",
    "Y = df[\"cluster_label\"]\n",
    "\n",
    "clf = tree.DecisionTreeClassifier()\n",
    "clf1 = clf.fit(X,Y)\n",
    "\n",
    "dot_data = tree.export_graphviz(clf1, out_file=None, feature_names=X.columns, class_names=True, filled=True, rounded=True)\n",
    "graph = graphviz.Source(dot_data)\n",
    "#graph.render(\"data/domesticDeclarations\")\n",
    "graph"
   ]
  },
  {
   "cell_type": "code",
   "execution_count": 118,
   "metadata": {},
   "outputs": [],
   "source": [
    "# split into test and training data set\n",
    "x_train, x_test, y_train, y_test = train_test_split(X, Y, test_size=0.2, random_state=42)"
   ]
  },
  {
   "cell_type": "code",
   "execution_count": 119,
   "metadata": {},
   "outputs": [],
   "source": [
    "SVM_model = svm.SVC()\n",
    "SVM_pred = SVM_model.fit(x_train, y_train).predict(x_test)\n",
    "\n",
    "tree_model = tree.DecisionTreeClassifier()\n",
    "tree_pred = tree_model.fit(x_train, y_train).predict(x_test)\n",
    "\n",
    "KNN_model = KNeighborsClassifier(n_neighbors=5)\n",
    "KNN_pred = KNN_model.fit(x_train, y_train).predict(x_test)\n",
    "\n",
    "log_model = LogisticRegression()\n",
    "log_pred = log_model.fit(x_train, y_train).predict(x_test)\n",
    "\n",
    "gauss_model = GaussianNB()\n",
    "gauss_pred = gauss_model.fit(x_train, y_train).predict(x_test)"
   ]
  },
  {
   "cell_type": "code",
   "execution_count": 120,
   "metadata": {},
   "outputs": [
    {
     "data": {
      "image/png": "[encoded data removed]",
      "text/plain": [
       "<Figure size 432x288 with 1 Axes>"
      ]
     },
     "metadata": {
      "needs_background": "light"
     },
     "output_type": "display_data"
    }
   ],
   "source": [
    "# plot predictions against the true values\n",
    "plt.scatter(y_test, gauss_pred)\n",
    "plt.xlabel(\"True Values\")\n",
    "plt.ylabel(\"Predictions\")\n",
    "plt.show()"
   ]
  },
  {
   "cell_type": "code",
   "execution_count": 126,
   "metadata": {},
   "outputs": [
    {
     "name": "stdout",
     "output_type": "stream",
     "text": [
      "SVM Classifier:  1.0\n",
      "KNN Classifier:  1.0\n",
      "Decision Tree Classifier:  0.9999114103472715\n",
      "Logistic Regression Classifier:  1.0\n",
      "Gaussian Naive Bayes Classifier:  1.0\n"
     ]
    }
   ],
   "source": [
    "print(\"SVM Classifier: \", accuracy_score(SVM_pred, y_test))\n",
    "print(\"KNN Classifier: \", accuracy_score(KNN_pred, y_test))\n",
    "print(\"Decision Tree Classifier: \", accuracy_score(tree_pred, y_test))\n",
    "print(\"Logistic Regression Classifier: \", accuracy_score(log_pred, y_test))\n",
    "print(\"Gaussian Naive Bayes Classifier: \", accuracy_score(gauss_pred, y_test))"
   ]
  },
  {
   "cell_type": "code",
   "execution_count": null,
   "metadata": {},
   "outputs": [],
   "source": [
    "print(\"SVM Classifier: \", confusion_matrix(SVM_pred, y_test))\n",
    "print(\"KNN Classifier: \", confusion_matrix(KNN_pred, y_test))\n",
    "print(\"Decision Tree Classifier: \", confusion_matrix(tree_pred, y_test))\n",
    "print(\"Logistic Regression Classifier: \", confusion_matrix(log_pred, y_test))\n",
    "print(\"Gaussian Naive Bayes Classifier: \", confusion_matrix(gauss_pred, y_test))"
   ]
  },
  {
   "cell_type": "code",
   "execution_count": null,
   "metadata": {},
   "outputs": [],
   "source": [
    "print(\"SVM Classifier: \", classification_report(SVM_pred, y_test))\n",
    "print(\"KNN Classifier: \", classification_report(KNN_pred, y_test))\n",
    "print(\"Decision Tree Classifier: \", classification_report(tree_pred, y_test))\n",
    "print(\"Logistic Regression Classifier: \", classification_report(log_pred, y_test))\n",
    "print(\"Gaussian Naive Bayes Classifier: \", classification_report(gauss_pred, y_test))"
   ]
  },
  {
   "cell_type": "code",
   "execution_count": 129,
   "metadata": {},
   "outputs": [
    {
     "name": "stdout",
     "output_type": "stream",
     "text": [
      "Number of mislabeled points out of a total 11288 points : 1\n"
     ]
    }
   ],
   "source": [
    "prediction = tree_pred\n",
    "print(\"Number of mislabeled points out of a total %d points : %d\" % (x_test.shape[0], (y_test != prediction).sum()))"
   ]
  },
  {
   "cell_type": "markdown",
   "metadata": {},
   "source": [
    "## Replace events with cluster representative"
   ]
  },
  {
   "cell_type": "code",
   "execution_count": 12,
   "metadata": {},
   "outputs": [
    {
     "data": {
      "text/html": [
       "<div>\n",
       "<style scoped>\n",
       "    .dataframe tbody tr th:only-of-type {\n",
       "        vertical-align: middle;\n",
       "    }\n",
       "\n",
       "    .dataframe tbody tr th {\n",
       "        vertical-align: top;\n",
       "    }\n",
       "\n",
       "    .dataframe thead th {\n",
       "        text-align: right;\n",
       "    }\n",
       "</style>\n",
       "<table border=\"1\" class=\"dataframe\">\n",
       "  <thead>\n",
       "    <tr style=\"text-align: right;\">\n",
       "      <th></th>\n",
       "      <th>case:Amount</th>\n",
       "      <th>case:BudgetNumber</th>\n",
       "      <th>case:DeclarationNumber</th>\n",
       "      <th>case:concept:name</th>\n",
       "      <th>case:id</th>\n",
       "      <th>concept:name</th>\n",
       "      <th>id</th>\n",
       "      <th>org:resource</th>\n",
       "      <th>org:role</th>\n",
       "      <th>time:timestamp</th>\n",
       "    </tr>\n",
       "  </thead>\n",
       "  <tbody>\n",
       "    <tr>\n",
       "      <th>0</th>\n",
       "      <td>26.851205</td>\n",
       "      <td>budget 86566</td>\n",
       "      <td>declaration number 86792</td>\n",
       "      <td>declaration 86791</td>\n",
       "      <td>declaration 86791</td>\n",
       "      <td>C</td>\n",
       "      <td>st_step 86794_0</td>\n",
       "      <td>STAFF MEMBER</td>\n",
       "      <td>EMPLOYEE</td>\n",
       "      <td>2017-01-09 09:49:50+01:00</td>\n",
       "    </tr>\n",
       "    <tr>\n",
       "      <th>1</th>\n",
       "      <td>182.464172</td>\n",
       "      <td>budget 86566</td>\n",
       "      <td>declaration number 86796</td>\n",
       "      <td>declaration 86795</td>\n",
       "      <td>declaration 86795</td>\n",
       "      <td>C</td>\n",
       "      <td>st_step 86798_0</td>\n",
       "      <td>STAFF MEMBER</td>\n",
       "      <td>EMPLOYEE</td>\n",
       "      <td>2017-01-09 10:26:14+01:00</td>\n",
       "    </tr>\n",
       "    <tr>\n",
       "      <th>2</th>\n",
       "      <td>320.646137</td>\n",
       "      <td>budget 86566</td>\n",
       "      <td>declaration number 86801</td>\n",
       "      <td>declaration 86800</td>\n",
       "      <td>declaration 86800</td>\n",
       "      <td>C</td>\n",
       "      <td>st_step 86804_0</td>\n",
       "      <td>STAFF MEMBER</td>\n",
       "      <td>EMPLOYEE</td>\n",
       "      <td>2017-01-09 11:13:33+01:00</td>\n",
       "    </tr>\n",
       "    <tr>\n",
       "      <th>3</th>\n",
       "      <td>113.862047</td>\n",
       "      <td>budget 86566</td>\n",
       "      <td>declaration number 86732</td>\n",
       "      <td>declaration 86731</td>\n",
       "      <td>declaration 86731</td>\n",
       "      <td>C</td>\n",
       "      <td>st_step 86733_0</td>\n",
       "      <td>STAFF MEMBER</td>\n",
       "      <td>EMPLOYEE</td>\n",
       "      <td>2017-01-09 11:24:20+01:00</td>\n",
       "    </tr>\n",
       "    <tr>\n",
       "      <th>4</th>\n",
       "      <td>26.851205</td>\n",
       "      <td>budget 86566</td>\n",
       "      <td>declaration number 86792</td>\n",
       "      <td>declaration 86791</td>\n",
       "      <td>declaration 86791</td>\n",
       "      <td>B</td>\n",
       "      <td>st_step 86793_0</td>\n",
       "      <td>STAFF MEMBER</td>\n",
       "      <td>SUPERVISOR</td>\n",
       "      <td>2017-01-09 11:27:48+01:00</td>\n",
       "    </tr>\n",
       "  </tbody>\n",
       "</table>\n",
       "</div>"
      ],
      "text/plain": [
       "   case:Amount case:BudgetNumber    case:DeclarationNumber  case:concept:name  \\\n",
       "0  26.851205    budget 86566      declaration number 86792  declaration 86791   \n",
       "1  182.464172   budget 86566      declaration number 86796  declaration 86795   \n",
       "2  320.646137   budget 86566      declaration number 86801  declaration 86800   \n",
       "3  113.862047   budget 86566      declaration number 86732  declaration 86731   \n",
       "4  26.851205    budget 86566      declaration number 86792  declaration 86791   \n",
       "\n",
       "             case:id concept:name               id  org:resource    org:role  \\\n",
       "0  declaration 86791  C            st_step 86794_0  STAFF MEMBER  EMPLOYEE     \n",
       "1  declaration 86795  C            st_step 86798_0  STAFF MEMBER  EMPLOYEE     \n",
       "2  declaration 86800  C            st_step 86804_0  STAFF MEMBER  EMPLOYEE     \n",
       "3  declaration 86731  C            st_step 86733_0  STAFF MEMBER  EMPLOYEE     \n",
       "4  declaration 86791  B            st_step 86793_0  STAFF MEMBER  SUPERVISOR   \n",
       "\n",
       "              time:timestamp  \n",
       "0  2017-01-09 09:49:50+01:00  \n",
       "1  2017-01-09 10:26:14+01:00  \n",
       "2  2017-01-09 11:13:33+01:00  \n",
       "3  2017-01-09 11:24:20+01:00  \n",
       "4  2017-01-09 11:27:48+01:00  "
      ]
     },
     "execution_count": 12,
     "metadata": {},
     "output_type": "execute_result"
    }
   ],
   "source": [
    "# overwrite concept:name with mapped cluster representative\n",
    "abstracted_df = replace_with_representative(df, \"concept:name\", \"cluster_label\", original_df_columns)\n",
    "abstracted_df.head(5)"
   ]
  },
  {
   "cell_type": "code",
   "execution_count": null,
   "metadata": {},
   "outputs": [],
   "source": [
    "# write abstracted dataframe as csv file\n",
    "csv_filename = \"data/abs_km_bpic15.csv\"\n",
    "write_to_csv(abstracted_df, csv_filename, index=False)"
   ]
  },
  {
   "cell_type": "markdown",
   "metadata": {},
   "source": [
    "# Compare Process Models from Original Dataset to Abstracted Dataset"
   ]
  },
  {
   "cell_type": "code",
   "execution_count": null,
   "metadata": {},
   "outputs": [],
   "source": [
    "# read original and abstracted dataset as event logs\n",
    "filepath_original = \"data/BPIC15_1.xes\"\n",
    "filepath_abstracted = csv_filename\n",
    "\n",
    "original_log = read_as_log_xes(filepath_original)\n",
    "abstracted_log = read_as_log_csv(filepath_abstracted)\n",
    "\n",
    "print(\"Original Log:\")\n",
    "print(original_log)\n",
    "print(\"\\nAbstracted Log:\")\n",
    "print(abstracted_log)"
   ]
  },
  {
   "cell_type": "markdown",
   "metadata": {},
   "source": [
    "## Mining Algorithms\n",
    "* Alpha Miner\n",
    "* Inductive Miner\n",
    "* Heuristic Miner\n",
    "* Directly-Follows Graph"
   ]
  },
  {
   "cell_type": "code",
   "execution_count": null,
   "metadata": {},
   "outputs": [],
   "source": [
    "# Alpha Miner\n",
    "net_alpha_orig, im_alpha_orig, fm_alpha_orig = a_miner(original_log)\n",
    "net_alpha, im_alpha, fm_alpha = a_miner(abstracted_log)"
   ]
  },
  {
   "cell_type": "code",
   "execution_count": null,
   "metadata": {},
   "outputs": [],
   "source": [
    "# Inductive Miner\n",
    "net_ind_orig, im_ind_orig, fm_ind_orig = ind_miner(original_log)\n",
    "net_ind, im_ind, fm_ind = ind_miner(abstracted_log)"
   ]
  },
  {
   "cell_type": "code",
   "execution_count": null,
   "metadata": {},
   "outputs": [],
   "source": [
    "# Heuristic Miner\n",
    "net_heu_orig, im_heu_orig, fm_heu_orig = heu_miner(original_log)\n",
    "net_heu, im_heu, fm_heu = heu_miner(abstracted_log)"
   ]
  },
  {
   "cell_type": "code",
   "execution_count": null,
   "metadata": {},
   "outputs": [],
   "source": [
    "# Directly-Follows Graph\n",
    "dfg_miner(original_log)\n",
    "dfg_miner(abstracted_log)"
   ]
  },
  {
   "cell_type": "markdown",
   "metadata": {},
   "source": [
    "## Process Model Metrics\n",
    "* Fitness\n",
    "* Precision\n",
    "* Generalization\n",
    "* Simplicity"
   ]
  },
  {
   "cell_type": "code",
   "execution_count": null,
   "metadata": {},
   "outputs": [],
   "source": [
    "# Evaluation --> all four metrices in one line\n",
    "print(\"Original Log with Heuristic Miner:\")\n",
    "evaluation_metric(original_log, net_heu_orig, im_heu_orig, fm_heu_orig)\n",
    "\n",
    "print(\"\\nAbstracted Log with Heuristic Miner\")\n",
    "evaluation_metric(abstracted_log, net_heu, im_heu, fm_heu)"
   ]
  },
  {
   "cell_type": "code",
   "execution_count": null,
   "metadata": {},
   "outputs": [],
   "source": [
    "print(\"Original Log with Inductive Miner:\")\n",
    "evaluation_metric(original_log, net_ind_orig, im_ind_orig, fm_ind_orig )\n",
    "\n",
    "print(\"\\nAbstracted Log with Inductive Miner\")\n",
    "evaluation_metric(abstracted_log, net_ind, im_ind, fm_ind)"
   ]
  },
  {
   "cell_type": "code",
   "execution_count": null,
   "metadata": {},
   "outputs": [],
   "source": [
    "# Fitness\n",
    "print(\"Original Log with Heuristic Miner:\")\n",
    "fitness_metric(original_log, net_heu_orig, im_heu_orig, fm_heu_orig)\n",
    "\n",
    "print(\"\\nAbstracted Log with Heuristic Miner\")\n",
    "fitness_metric(abstracted_log, net_heu, im_heu, fm_heu)"
   ]
  },
  {
   "cell_type": "code",
   "execution_count": null,
   "metadata": {},
   "outputs": [],
   "source": [
    "# Precision\n",
    "print(\"Original Log with Heuristic Miner:\")\n",
    "precision_metric(original_log, net_heu_orig, im_heu_orig, fm_heu_orig)\n",
    "\n",
    "print(\"\\nAbstracted Log with Heuristic Miner\")\n",
    "precision_metric(abstracted_log, net_heu, im_heu, fm_heu)"
   ]
  },
  {
   "cell_type": "code",
   "execution_count": null,
   "metadata": {},
   "outputs": [],
   "source": [
    "# Generalization\n",
    "print(\"Original Log with Heuristic Miner:\")\n",
    "generalization_metric(original_log, net_heu_orig, im_heu_orig, fm_heu_orig)\n",
    "\n",
    "print(\"\\nAbstracted Log with Heuristic Miner\")\n",
    "generalization_metric(abstracted_log, net_heu, im_heu, fm_heu)"
   ]
  },
  {
   "cell_type": "code",
   "execution_count": null,
   "metadata": {},
   "outputs": [],
   "source": [
    "# Simplicity\n",
    "print(\"Original Log with Heuristic Miner:\")\n",
    "simplicity_metric(original_log, net_heu_orig, im_heu_orig, fm_heu_orig)\n",
    "\n",
    "print(\"\\nAbstracted Log with Heuristic Miner\")\n",
    "simplicity_metric(abstracted_log, net_heu, im_heu, fm_heu)"
   ]
  }
 ],
 "metadata": {
  "kernelspec": {
   "display_name": "Python 3",
   "language": "python",
   "name": "python3"
  },
  "language_info": {
   "codemirror_mode": {
    "name": "ipython",
    "version": 3
   },
   "file_extension": ".py",
   "mimetype": "text/x-python",
   "name": "python",
   "nbconvert_exporter": "python",
   "pygments_lexer": "ipython3",
   "version": "3.7.2"
  }
 },
 "nbformat": 4,
 "nbformat_minor": 2
}
