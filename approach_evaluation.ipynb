{
 "cells": [
  {
   "cell_type": "code",
   "execution_count": null,
   "metadata": {},
   "outputs": [],
   "source": [
    "#reload source files automatically\n",
    "%load_ext autoreload\n",
    "%autoreload 2"
   ]
  },
  {
   "cell_type": "code",
   "execution_count": null,
   "metadata": {},
   "outputs": [],
   "source": [
    "import pandas as pd\n",
    "import matplotlib.pyplot as plt\n",
    "import graphviz\n",
    "\n",
    "from event_clustering.preprocessing import *\n",
    "from event_clustering.clustering import *\n",
    "from event_clustering.postprocessing import *\n",
    "from event_clustering.process_mining import *\n",
    "\n",
    "from sklearn.cluster import *\n",
    "from sklearn.model_selection import train_test_split\n",
    "from sklearn import svm\n",
    "from sklearn import tree\n",
    "from sklearn.linear_model import LogisticRegression\n",
    "from sklearn.neighbors import KNeighborsClassifier\n",
    "from sklearn.naive_bayes import GaussianNB\n",
    "from sklearn.metrics import classification_report, confusion_matrix, accuracy_score\n",
    "import sklearn.metrics as metrics\n",
    "import sklearn.metrics.cluster as cluster_metrics\n",
    "\n",
    "from pm4py.algo.discovery.inductive import algorithm as inductive_miner\n",
    "#http://pm4py.pads.rwth-aachen.de/documentation/conformance-checking/evaluation-log-model/\n",
    "from pm4py.evaluation import factory as evaluation_factory\n",
    "\n",
    "import scipy.cluster.hierarchy as sch"
   ]
  },
  {
   "cell_type": "markdown",
   "metadata": {},
   "source": [
    "# Load Encoded Events"
   ]
  },
  {
   "cell_type": "code",
   "execution_count": null,
   "metadata": {},
   "outputs": [],
   "source": [
    "# change the column name map to suit your dataset by replacing the values in this dictionary \n",
    "column_name_map = {\n",
    "    'timestamp': 'time:timestamp',\n",
    "    'caseid' : 'case:id',\n",
    "    'eventname' : 'concept:name',\n",
    "    'resource' : 'org:resource',\n",
    "    'role' : 'org:role',\n",
    "}  "
   ]
  },
  {
   "cell_type": "code",
   "execution_count": null,
   "metadata": {},
   "outputs": [],
   "source": [
    "# These are the PREFIXES of the feature names, the evaluation code automatically includes all columns for each prefix\n",
    "# Change the array to include the features you would like to use\n",
    "feature_names = [\n",
    "    'concept:name',\n",
    "    'org:role',\n",
    "    'feature_position_relative',\n",
    "    'feature_position_window',\n",
    "    'feature_time_to_successor',\n",
    "    'feature_time_of_day',\n",
    "]"
   ]
  },
  {
   "cell_type": "code",
   "execution_count": null,
   "metadata": {},
   "outputs": [],
   "source": [
    "# Here you can add the experiments, one array per experiment.\n",
    "# Within the array for an experiment you define the indices for the feature_names you want to use in that experiment\n",
    "experiments = [\n",
    "    [0],\n",
    "    [0,1],\n",
    "    [0,2],\n",
    "    [0,1,2],\n",
    "    [0,3],\n",
    "    [0,1,3],\n",
    "    [0,1,2,3]\n",
    "]"
   ]
  },
  {
   "cell_type": "code",
   "execution_count": null,
   "metadata": {},
   "outputs": [],
   "source": [
    "# load and preprocess the dataset\n",
    "# specify your data folder and the filename you want to analyze\n",
    "data_folder = 'data/'\n",
    "file_name = 'DomesticDeclarations'\n",
    "df = preprocess(load(data_folder + file_name + '.xes'), column_name_map)\n",
    "# load the encoded dataset\n",
    "df_encoded = pd.read_csv(data_folder + file_name + '_encoded.csv')\n",
    "original_df_columns = df.columns"
   ]
  },
  {
   "cell_type": "markdown",
   "metadata": {},
   "source": [
    "# Clustering"
   ]
  },
  {
   "cell_type": "markdown",
   "metadata": {},
   "source": [
    "### KMeans"
   ]
  },
  {
   "cell_type": "code",
   "execution_count": null,
   "metadata": {},
   "outputs": [],
   "source": [
    "# find the optimal clusters using the elbow method\n",
    "find_optimal_clusters(df_encoded, 10)"
   ]
  },
  {
   "cell_type": "code",
   "execution_count": null,
   "metadata": {},
   "outputs": [],
   "source": [
    "# set cluster number (e.g. by determining cluster nr with method above)\n",
    "cluster_nr = 6"
   ]
  },
  {
   "cell_type": "markdown",
   "metadata": {},
   "source": [
    "## Evaluation"
   ]
  },
  {
   "cell_type": "code",
   "execution_count": null,
   "metadata": {},
   "outputs": [],
   "source": [
    "# this code runs the experiments you defined and stores \n",
    "# the results for the different metrics and the process models in the results folder \n",
    "for experiment in experiments:\n",
    "    \n",
    "    selected_feature_names = []\n",
    "    # get the columns for each feature\n",
    "    column_names = []\n",
    "    for name_index in experiment:\n",
    "        feature_name = feature_names[name_index]\n",
    "        selected_feature_names.append(feature_name.replace(\":\", \"\"))\n",
    "        column_names.extend([x for x in df_encoded.columns if feature_name in x])\n",
    "        \n",
    "    experiment_name = file_name + '_exp_' + '+'.join(selected_feature_names)\n",
    "    \n",
    "    # select the feature columns that are used in the experiment from the dataset\n",
    "    df_experiment = df_encoded[column_names]\n",
    "    \n",
    "    experiment_results_path_prefix = 'results/' + experiment_name\n",
    "    \n",
    "    # run the clustering\n",
    "    km = MiniBatchKMeans(n_clusters=cluster_nr, init_size=1024, batch_size=2048, random_state=20)\n",
    "    cluster_labels = km.fit_predict(df_experiment)\n",
    "    # save the cluster labels, so we can use them later to evaluate the data manually\n",
    "    np.save(experiment_results_path_prefix + '_cluster_labels', cluster_labels)\n",
    "    \n",
    "    #plot pca\n",
    "    plot_pca(df_experiment, cluster_labels, experiment_results_path_prefix + '_pcaplot')\n",
    "    \n",
    "    # calculate and store silhoette score\n",
    "    silhouette_path = experiment_results_path_prefix + \"_silhouette.txt\"\n",
    "    if os.path.exists(silhouette_path):\n",
    "        os.remove(silhouette_path)\n",
    "    silhouette = metrics.silhouette_score(df_experiment, cluster_labels)\n",
    "    f = open(silhouette_path, \"x\")\n",
    "    f.write(str(silhouette))\n",
    "    f.close()\n",
    "             \n",
    "    # calculate and store completeness score\n",
    "    completeness_path = experiment_results_path_prefix + \"_completeness.txt\"\n",
    "    if os.path.exists(completeness_path):\n",
    "        os.remove(completeness_path)\n",
    "    completness = metrics.completeness_score(df[column_name_map['eventname']], cluster_labels)\n",
    "    f = open(completeness_path, \"x\")\n",
    "    f.write(str(completness))\n",
    "    f.close()\n",
    "    \n",
    "    # generate the abstracted dataset\n",
    "    abstracted_df = df.copy()\n",
    "    abstracted_df[column_name_map['eventname']] = ['c_' + str(x) for x in cluster_labels]\n",
    "    merge_consecutive_same_events(abstracted_df, column_name_map['caseid'], column_name_map['eventname'])\n",
    "                                                 \n",
    "    # write abstracted dataset as csv file\n",
    "    filepath_abstracted = data_folder + experiment_name + '_abstracted.csv'\n",
    "    abstracted_df.to_csv(filepath_abstracted, index=False)\n",
    "    \n",
    "    # read logs with pm4py                                           \n",
    "    original_log = read_as_log_xes(data_folder + file_name + '.xes')\n",
    "    abstracted_log = read_as_log_csv(filepath_abstracted)\n",
    "                                                 \n",
    "    # mine process model for original and abstracted dataset\n",
    "    net_ind_orig, im_ind_orig, fm_ind_orig = inductive_miner.apply(original_log)\n",
    "    net_ind, im_ind, fm_ind = inductive_miner.apply(abstracted_log)\n",
    "                  \n",
    "    # visualize and store the petri nets for both models\n",
    "    visualize_as_petri_net(net_ind_orig, im_ind_orig, fm_ind_orig, experiment_results_path_prefix + '_petrinet.svg')\n",
    "    visualize_as_petri_net(net_ind, im_ind, fm_ind, experiment_results_path_prefix + '_petrinet_abstracted.svg')\n",
    "             \n",
    "    # determine the model metrics for both models\n",
    "    model_metrics_original = evaluation_factory.apply(original_log, net_ind_orig, im_ind_orig, fm_ind_orig)\n",
    "    model_metrics_abstracted = evaluation_factory.apply(abstracted_log, net_ind, im_ind, fm_ind)\n",
    "    \n",
    "    # sore the model metrics for the original model\n",
    "    model_metrics_path = experiment_results_path_prefix + \"_model_metrics.txt\"\n",
    "    if os.path.exists(model_metrics_path):\n",
    "        os.remove(model_metrics_path)\n",
    "    f = open(model_metrics_path, \"x\")\n",
    "    f.write(str(model_metrics_original))\n",
    "    f.close()\n",
    "        \n",
    "    # sore the model metrics for the abstracted model\n",
    "    model_metrics_abstracted_path = experiment_results_path_prefix + \"_model_metrics_abstracted.txt\"\n",
    "    if os.path.exists(model_metrics_abstracted_path):\n",
    "        os.remove(model_metrics_abstracted_path)\n",
    "    f = open(model_metrics_abstracted_path, \"x\")\n",
    "    f.write(str(model_metrics_abstracted))\n",
    "    f.close()                                                                                          "
   ]
  },
  {
   "cell_type": "code",
   "execution_count": null,
   "metadata": {},
   "outputs": [],
   "source": [
    "# This code is used to check the cluster labels \"manually\", by grouping by cluster label and aggregate on concept:name\n",
    "# change experiment_results_path_prefix if you want to use the cluster labels of another experiment\n",
    "cluster_labels = np.load(experiment_results_path_prefix + '_cluster_labels.npy')\n",
    "df2 = df.copy()\n",
    "df2['cluster_labels'] = cluster_labels\n",
    "eval_manually = df2.groupby('cluster_labels')[column_name_map['eventname']].apply(set)\n",
    "eval_manually"
   ]
  },
  {
   "cell_type": "code",
   "execution_count": null,
   "metadata": {},
   "outputs": [],
   "source": []
  }
 ],
 "metadata": {
  "kernelspec": {
   "display_name": "Python 3",
   "language": "python",
   "name": "python3"
  },
  "language_info": {
   "codemirror_mode": {
    "name": "ipython",
    "version": 3
   },
   "file_extension": ".py",
   "mimetype": "text/x-python",
   "name": "python",
   "nbconvert_exporter": "python",
   "pygments_lexer": "ipython3",
   "version": "3.7.3"
  }
 },
 "nbformat": 4,
 "nbformat_minor": 2
}
