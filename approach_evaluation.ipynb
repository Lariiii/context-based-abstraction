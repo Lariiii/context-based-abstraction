{
 "cells": [
  {
   "cell_type": "code",
   "execution_count": null,
   "metadata": {},
   "outputs": [],
   "source": [
    "#reload source files automatically\n",
    "%load_ext autoreload\n",
    "%autoreload 2"
   ]
  },
  {
   "cell_type": "code",
   "execution_count": null,
   "metadata": {},
   "outputs": [],
   "source": [
    "import pandas as pd\n",
    "import matplotlib.pyplot as plt\n",
    "import graphviz\n",
    "\n",
    "from event_clustering.preprocessing import *\n",
    "from event_clustering.clustering import *\n",
    "from event_clustering.postprocessing import *\n",
    "from event_clustering.process_mining import *\n",
    "\n",
    "from sklearn.cluster import *\n",
    "from sklearn.model_selection import train_test_split\n",
    "from sklearn import svm\n",
    "from sklearn import tree\n",
    "from sklearn.linear_model import LogisticRegression\n",
    "from sklearn.neighbors import KNeighborsClassifier\n",
    "from sklearn.naive_bayes import GaussianNB\n",
    "from sklearn.metrics import classification_report, confusion_matrix, accuracy_score\n",
    "import sklearn.metrics as metrics\n",
    "import sklearn.metrics.cluster as cluster_metrics\n",
    "\n",
    "import scipy.cluster.hierarchy as sch"
   ]
  },
  {
   "cell_type": "markdown",
   "metadata": {},
   "source": [
    "# Load Encoded Events"
   ]
  },
  {
   "cell_type": "code",
   "execution_count": null,
   "metadata": {},
   "outputs": [],
   "source": [
    "file_name = 'DomesticDeclarations'\n",
    "df = preprocess(load('data/' + file_name + '.xes'))\n",
    "df_encoded = pd.read_csv('data/' + file_name + '_name-role-pos-ref-tod_encoded.csv')\n",
    "original_df_columns = df.columns"
   ]
  },
  {
   "cell_type": "markdown",
   "metadata": {},
   "source": [
    "# Clustering"
   ]
  },
  {
   "cell_type": "markdown",
   "metadata": {},
   "source": [
    "### KMeans"
   ]
  },
  {
   "cell_type": "code",
   "execution_count": null,
   "metadata": {},
   "outputs": [],
   "source": [
    "find_optimal_clusters(df_encoded, 10)"
   ]
  },
  {
   "cell_type": "code",
   "execution_count": null,
   "metadata": {},
   "outputs": [],
   "source": [
    "cluster_nr = 6\n",
    "km = MiniBatchKMeans(n_clusters=cluster_nr, init_size=1024, batch_size=2048, random_state=20)\n",
    "cluster_labels = km.fit_predict(df_encoded)"
   ]
  },
  {
   "cell_type": "markdown",
   "metadata": {},
   "source": [
    "### Hierarchical Clustering"
   ]
  },
  {
   "cell_type": "code",
   "execution_count": null,
   "metadata": {},
   "outputs": [],
   "source": [
    "# setting distance_threshold=0 ensures we compute the full tree.\n",
    "hier_dendogram = AgglomerativeClustering(distance_threshold=0, n_clusters=None, linkage = \"single\").fit(df_encoded)\n",
    "\n",
    "# Plot the corresponding dendrogram\n",
    "plt.figure(figsize=(25, 10))\n",
    "plt.title('Hierarchical Clustering Dendrogram')\n",
    "plot_dendrogram(hier_dendogram, truncate_mode='level', p=5)\n",
    "plt.xlabel(\"Sample Index or (Cluster Size)\")\n",
    "plt.ylabel(\"Distance\")\n",
    "plt.show()\n",
    "\n",
    "plt.figure(figsize=(25, 10))\n",
    "plt.title('Hierarchical Clustering Dendrogram')\n",
    "plot_dendrogram(hier_dendogram, truncate_mode='level', p=40)\n",
    "plt.xlabel(\"Sample Index or (Cluster Size)\")\n",
    "plt.ylabel(\"Distance\")\n",
    "plt.show()"
   ]
  },
  {
   "cell_type": "code",
   "execution_count": null,
   "metadata": {},
   "outputs": [],
   "source": [
    "# --> determine amount of clusters\n",
    "agg_clusters = 6\n",
    "hier = AgglomerativeClustering(n_clusters=agg_clusters, linkage=\"single\").fit(df_encoded)\n",
    "cluster_labels = hier.labels_"
   ]
  },
  {
   "cell_type": "markdown",
   "metadata": {},
   "source": [
    "## Evaluation"
   ]
  },
  {
   "cell_type": "code",
   "execution_count": null,
   "metadata": {},
   "outputs": [],
   "source": [
    "plot_pca(df_encoded, cluster_labels)"
   ]
  },
  {
   "cell_type": "code",
   "execution_count": null,
   "metadata": {},
   "outputs": [],
   "source": [
    "print(\"Completeness KMeans: \", metrics.completeness_score(df['concept:name'], cluster_labels))\n",
    "print(\"Silhouette Coefficient KMeans: \", metrics.silhouette_score(df_encoded, cluster_labels))"
   ]
  },
  {
   "cell_type": "code",
   "execution_count": null,
   "metadata": {},
   "outputs": [],
   "source": [
    "df['cluster_label'] = cluster_labels"
   ]
  },
  {
   "cell_type": "markdown",
   "metadata": {},
   "source": [
    "## Check cluster labels \"manually\""
   ]
  },
  {
   "cell_type": "code",
   "execution_count": null,
   "metadata": {},
   "outputs": [],
   "source": [
    "df"
   ]
  },
  {
   "cell_type": "code",
   "execution_count": null,
   "metadata": {},
   "outputs": [],
   "source": [
    "# group by cluster label and aggregate concept:name\n",
    "eval_manually = df.groupby('cluster_label')['concept:name'].apply(set)"
   ]
  },
  {
   "cell_type": "code",
   "execution_count": null,
   "metadata": {},
   "outputs": [],
   "source": [
    "pd.set_option('display.max_colwidth', -1)\n",
    "eval_manually"
   ]
  },
  {
   "cell_type": "code",
   "execution_count": null,
   "metadata": {
    "scrolled": true
   },
   "outputs": [],
   "source": [
    "df_encoded"
   ]
  },
  {
   "cell_type": "markdown",
   "metadata": {},
   "source": [
    "## Use Supervised Approach"
   ]
  },
  {
   "cell_type": "code",
   "execution_count": null,
   "metadata": {},
   "outputs": [],
   "source": [
    "X = df_encoded\n",
    "Y = df[\"cluster_label\"]\n",
    "\n",
    "clf = tree.DecisionTreeClassifier()\n",
    "clf1 = clf.fit(X,Y)\n",
    "\n",
    "dot_data = tree.export_graphviz(clf1, out_file=None, feature_names=X.columns, class_names=True, filled=True, rounded=True)\n",
    "graph = graphviz.Source(dot_data)\n",
    "graph.render(\"data/domesticDeclarations_name-pos-time\")\n",
    "#graph"
   ]
  },
  {
   "cell_type": "code",
   "execution_count": null,
   "metadata": {},
   "outputs": [],
   "source": [
    "# split into test and training data set\n",
    "x_train, x_test, y_train, y_test = train_test_split(X, Y, test_size=0.2) #, random_state=42)"
   ]
  },
  {
   "cell_type": "code",
   "execution_count": null,
   "metadata": {},
   "outputs": [],
   "source": [
    "SVM_model = svm.SVC()\n",
    "SVM_pred = SVM_model.fit(x_train, y_train).predict(x_test)\n",
    "\n",
    "tree_model = tree.DecisionTreeClassifier()\n",
    "tree_pred = tree_model.fit(x_train, y_train).predict(x_test)\n",
    "\n",
    "KNN_model = KNeighborsClassifier(n_neighbors=5)\n",
    "KNN_pred = KNN_model.fit(x_train, y_train).predict(x_test)\n",
    "\n",
    "log_model = LogisticRegression()\n",
    "log_pred = log_model.fit(x_train, y_train).predict(x_test)\n",
    "\n",
    "gauss_model = GaussianNB()\n",
    "gauss_pred = gauss_model.fit(x_train, y_train).predict(x_test)"
   ]
  },
  {
   "cell_type": "code",
   "execution_count": null,
   "metadata": {},
   "outputs": [],
   "source": [
    "print(\"Accuracy Scores\\n\")\n",
    "print(\"SVM Classifier: \", accuracy_score(SVM_pred, y_test))\n",
    "print(\"KNN Classifier: \", accuracy_score(KNN_pred, y_test))\n",
    "print(\"Decision Tree Classifier: \", accuracy_score(tree_pred, y_test))\n",
    "print(\"Logistic Regression Classifier: \", accuracy_score(log_pred, y_test))\n",
    "print(\"Gaussian Naive Bayes Classifier: \", accuracy_score(gauss_pred, y_test))"
   ]
  },
  {
   "cell_type": "code",
   "execution_count": null,
   "metadata": {},
   "outputs": [],
   "source": [
    "print(\"SVM Classifier: \", confusion_matrix(SVM_pred, y_test))\n",
    "print(\"KNN Classifier: \", confusion_matrix(KNN_pred, y_test))\n",
    "print(\"Decision Tree Classifier: \", confusion_matrix(tree_pred, y_test))\n",
    "print(\"Logistic Regression Classifier: \", confusion_matrix(log_pred, y_test))\n",
    "print(\"Gaussian Naive Bayes Classifier: \", confusion_matrix(gauss_pred, y_test))"
   ]
  },
  {
   "cell_type": "code",
   "execution_count": null,
   "metadata": {},
   "outputs": [],
   "source": [
    "print(\"SVM Classifier: \", classification_report(SVM_pred, y_test))\n",
    "print(\"KNN Classifier: \", classification_report(KNN_pred, y_test))\n",
    "print(\"Decision Tree Classifier: \", classification_report(tree_pred, y_test))\n",
    "print(\"Logistic Regression Classifier: \", classification_report(log_pred, y_test))\n",
    "print(\"Gaussian Naive Bayes Classifier: \", classification_report(gauss_pred, y_test))"
   ]
  },
  {
   "cell_type": "code",
   "execution_count": null,
   "metadata": {},
   "outputs": [],
   "source": [
    "all_pred = [SVM_pred, tree_pred, KNN_pred, log_pred, gauss_pred]\n",
    "\n",
    "for i in all_pred:\n",
    "    print(\"Number of mislabeled points out of a total %d points : %d\" % (x_test.shape[0], (y_test != i).sum()))"
   ]
  },
  {
   "cell_type": "code",
   "execution_count": null,
   "metadata": {},
   "outputs": [],
   "source": [
    "# plot predictions against the true values\n",
    "plt.scatter(y_test, gauss_pred)\n",
    "plt.xlabel(\"True Values\")\n",
    "plt.ylabel(\"Predictions\")\n",
    "plt.show()"
   ]
  },
  {
   "cell_type": "markdown",
   "metadata": {},
   "source": [
    "## Replace events with cluster representative"
   ]
  },
  {
   "cell_type": "code",
   "execution_count": null,
   "metadata": {},
   "outputs": [],
   "source": [
    "# overwrite concept:name with mapped cluster representative\n",
    "abstracted_df = replace_with_representative(df, \"concept:name\", \"cluster_label\", original_df_columns)\n",
    "abstracted_df.head(5)"
   ]
  },
  {
   "cell_type": "code",
   "execution_count": null,
   "metadata": {},
   "outputs": [],
   "source": [
    "# write abstracted dataframe as csv file\n",
    "csv_filename = \"data/dd_7_h.csv\"\n",
    "write_to_csv(abstracted_df, csv_filename, index=False)"
   ]
  },
  {
   "cell_type": "markdown",
   "metadata": {},
   "source": [
    "# Compare Process Models from Original Dataset to Abstracted Dataset"
   ]
  },
  {
   "cell_type": "code",
   "execution_count": null,
   "metadata": {},
   "outputs": [],
   "source": [
    "# read original and abstracted dataset as event logs\n",
    "filepath_original = \"data/DomesticDeclarations.xes\"\n",
    "filepath_abstracted = csv_filename\n",
    "original_log = read_as_log_xes(filepath_original)\n",
    "abstracted_log = read_as_log_csv(filepath_abstracted)\n",
    "\n",
    "print(\"Original Log:\")\n",
    "print(original_log)\n",
    "print(\"\\nAbstracted Log:\")\n",
    "print(abstracted_log)"
   ]
  },
  {
   "cell_type": "markdown",
   "metadata": {},
   "source": [
    "## Mining Algorithms\n",
    "* Alpha Miner\n",
    "* Inductive Miner\n",
    "* Heuristic Miner\n",
    "* Directly-Follows Graph"
   ]
  },
  {
   "cell_type": "code",
   "execution_count": null,
   "metadata": {},
   "outputs": [],
   "source": [
    "# Inductive Miner\n",
    "net_ind_orig, im_ind_orig, fm_ind_orig = ind_miner(original_log)\n",
    "net_ind, im_ind, fm_ind = ind_miner(abstracted_log)"
   ]
  },
  {
   "cell_type": "code",
   "execution_count": null,
   "metadata": {},
   "outputs": [],
   "source": [
    "# Heuristic Miner\n",
    "net_heu_orig, im_heu_orig, fm_heu_orig = heu_miner(original_log)\n",
    "net_heu, im_heu, fm_heu = heu_miner(abstracted_log)"
   ]
  },
  {
   "cell_type": "code",
   "execution_count": null,
   "metadata": {},
   "outputs": [],
   "source": [
    "# Alpha Miner\n",
    "net_alpha_orig, im_alpha_orig, fm_alpha_orig = a_miner(original_log)\n",
    "net_alpha, im_alpha, fm_alpha = a_miner(abstracted_log)"
   ]
  },
  {
   "cell_type": "code",
   "execution_count": null,
   "metadata": {},
   "outputs": [],
   "source": [
    "# Directly-Follows Graph\n",
    "dfg_miner(original_log)\n",
    "dfg_miner(abstracted_log)"
   ]
  },
  {
   "cell_type": "markdown",
   "metadata": {},
   "source": [
    "## Process Model Metrics\n",
    "* Fitness\n",
    "* Precision\n",
    "* Generalization\n",
    "* Simplicity"
   ]
  },
  {
   "cell_type": "code",
   "execution_count": null,
   "metadata": {},
   "outputs": [],
   "source": [
    "# Evaluation --> all four metrices in one line\n",
    "print(\"Original Log with Heuristic Miner:\")\n",
    "evaluation_metric(original_log, net_heu_orig, im_heu_orig, fm_heu_orig)\n",
    "\n",
    "print(\"\\nAbstracted Log with Heuristic Miner\")\n",
    "evaluation_metric(abstracted_log, net_heu, im_heu, fm_heu)"
   ]
  },
  {
   "cell_type": "code",
   "execution_count": null,
   "metadata": {},
   "outputs": [],
   "source": [
    "print(\"Original Log with Inductive Miner:\")\n",
    "evaluation_metric(original_log, net_ind_orig, im_ind_orig, fm_ind_orig)\n",
    "\n",
    "print(\"\\nAbstracted Log with Inductive Miner\")\n",
    "evaluation_metric(abstracted_log, net_ind, im_ind, fm_ind)"
   ]
  },
  {
   "cell_type": "code",
   "execution_count": null,
   "metadata": {},
   "outputs": [],
   "source": [
    "print(\"Original Log with Inductive Miner:\")\n",
    "evaluation_metric(original_log, net_ind_orig, im_ind_orig, fm_ind_orig )\n",
    "\n",
    "print(\"\\nAbstracted Log with Inductive Miner\")\n",
    "evaluation_metric(abstracted_log, net_ind, im_ind, fm_ind)"
   ]
  },
  {
   "cell_type": "code",
   "execution_count": null,
   "metadata": {},
   "outputs": [],
   "source": [
    "# Fitness\n",
    "print(\"Original Log with Heuristic Miner:\")\n",
    "fitness_metric(original_log, net_heu_orig, im_heu_orig, fm_heu_orig)\n",
    "\n",
    "print(\"\\nAbstracted Log with Heuristic Miner\")\n",
    "fitness_metric(abstracted_log, net_heu, im_heu, fm_heu)"
   ]
  },
  {
   "cell_type": "code",
   "execution_count": null,
   "metadata": {},
   "outputs": [],
   "source": [
    "# Precision\n",
    "print(\"Original Log with Heuristic Miner:\")\n",
    "precision_metric(original_log, net_heu_orig, im_heu_orig, fm_heu_orig)\n",
    "\n",
    "print(\"\\nAbstracted Log with Heuristic Miner\")\n",
    "precision_metric(abstracted_log, net_heu, im_heu, fm_heu)"
   ]
  },
  {
   "cell_type": "code",
   "execution_count": null,
   "metadata": {},
   "outputs": [],
   "source": [
    "# Generalization\n",
    "print(\"Original Log with Heuristic Miner:\")\n",
    "generalization_metric(original_log, net_heu_orig, im_heu_orig, fm_heu_orig)\n",
    "\n",
    "print(\"\\nAbstracted Log with Heuristic Miner\")\n",
    "generalization_metric(abstracted_log, net_heu, im_heu, fm_heu)"
   ]
  },
  {
   "cell_type": "code",
   "execution_count": null,
   "metadata": {},
   "outputs": [],
   "source": [
    "# Simplicity\n",
    "print(\"Original Log with Heuristic Miner:\")\n",
    "simplicity_metric(original_log, net_heu_orig, im_heu_orig, fm_heu_orig)\n",
    "\n",
    "print(\"\\nAbstracted Log with Heuristic Miner\")\n",
    "simplicity_metric(abstracted_log, net_heu, im_heu, fm_heu)"
   ]
  }
 ],
 "metadata": {
  "kernelspec": {
   "display_name": "Python 3",
   "language": "python",
   "name": "python3"
  },
  "language_info": {
   "codemirror_mode": {
    "name": "ipython",
    "version": 3
   },
   "file_extension": ".py",
   "mimetype": "text/x-python",
   "name": "python",
   "nbconvert_exporter": "python",
   "pygments_lexer": "ipython3",
   "version": "3.7.2"
  }
 },
 "nbformat": 4,
 "nbformat_minor": 2
}
