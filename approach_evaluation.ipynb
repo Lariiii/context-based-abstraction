{
 "cells": [
  {
   "cell_type": "code",
   "execution_count": 1,
   "metadata": {},
   "outputs": [],
   "source": [
    "#reload source files automatically\n",
    "%load_ext autoreload\n",
    "%autoreload 2"
   ]
  },
  {
   "cell_type": "code",
   "execution_count": 2,
   "metadata": {},
   "outputs": [],
   "source": [
    "import pandas as pd\n",
    "import matplotlib.pyplot as plt\n",
    "\n",
    "from event_clustering.preprocessing import *\n",
    "from event_clustering.clustering import *\n",
    "from event_clustering.postprocessing import *\n",
    "from event_clustering.process_mining import *\n",
    "\n",
    "from sklearn.cluster import *\n",
    "import sklearn.metrics as metrics\n",
    "import sklearn.metrics.cluster as cluster_metrics\n",
    "\n",
    "import scipy.cluster.hierarchy as sch"
   ]
  },
  {
   "cell_type": "markdown",
   "metadata": {},
   "source": [
    "# Load Encoded Events"
   ]
  },
  {
   "cell_type": "code",
   "execution_count": 5,
   "metadata": {},
   "outputs": [],
   "source": [
    "file_name = 'DomesticDeclarations'\n",
    "df = preprocess(load('data/' + file_name + '.xes'))\n",
    "df_encoded = pd.read_csv('data/' + file_name + '_name-role_encoded.csv')\n",
    "original_df_columns = df.columns"
   ]
  },
  {
   "cell_type": "markdown",
   "metadata": {},
   "source": [
    "# Clustering"
   ]
  },
  {
   "cell_type": "markdown",
   "metadata": {},
   "source": [
    "### KMeans"
   ]
  },
  {
   "cell_type": "code",
   "execution_count": 7,
   "metadata": {},
   "outputs": [
    {
     "name": "stdout",
     "output_type": "stream",
     "text": [
      "Fit 2 clusters\n",
      "Fit 4 clusters\n",
      "Fit 6 clusters\n",
      "Fit 8 clusters\n",
      "Fit 10 clusters\n"
     ]
    },
    {
     "data": {
      "image/png": "[encoded data removed]",
      "text/plain": [
       "<Figure size 432x288 with 1 Axes>"
      ]
     },
     "metadata": {
      "needs_background": "light"
     },
     "output_type": "display_data"
    }
   ],
   "source": [
    "find_optimal_clusters(df_encoded, 10)"
   ]
  },
  {
   "cell_type": "code",
   "execution_count": 8,
   "metadata": {},
   "outputs": [],
   "source": [
    "cluster_nr = 6\n",
    "km = MiniBatchKMeans(n_clusters=cluster_nr, init_size=1024, batch_size=2048, random_state=20)\n",
    "cluster_labels = km.fit_predict(df_encoded)"
   ]
  },
  {
   "cell_type": "markdown",
   "metadata": {},
   "source": [
    "### Hierarchical Clustering"
   ]
  },
  {
   "cell_type": "code",
   "execution_count": null,
   "metadata": {},
   "outputs": [],
   "source": [
    "# setting distance_threshold=0 ensures we compute the full tree.\n",
    "hier_dendogram = AgglomerativeClustering(distance_threshold=0, n_clusters=None, linkage = \"single\").fit(df_encoded)\n",
    "\n",
    "# Plot the corresponding dendrogram\n",
    "plt.figure(figsize=(25, 10))\n",
    "plt.title('Hierarchical Clustering Dendrogram')\n",
    "#plot_dendrogram(hier_dendogram, truncate_mode='level', p=5)\n",
    "plt.xlabel(\"Sample Index or (Cluster Size)\")\n",
    "plt.ylabel(\"Distance\")\n",
    "plt.show()\n",
    "\n",
    "plt.figure(figsize=(25, 10))\n",
    "plt.title('Hierarchical Clustering Dendrogram')\n",
    "plot_dendrogram(hier_dendogram, truncate_mode='level', p=40)\n",
    "plt.xlabel(\"Sample Index or (Cluster Size)\")\n",
    "plt.ylabel(\"Distance\")\n",
    "plt.show()"
   ]
  },
  {
   "cell_type": "code",
   "execution_count": 14,
   "metadata": {},
   "outputs": [],
   "source": [
    "# --> determine amount of clusters\n",
    "agg_clusters = 3\n",
    "hier = AgglomerativeClustering(n_clusters=agg_clusters, linkage=\"single\").fit(df_encoded)\n",
    "cluster_labels = hier.labels_"
   ]
  },
  {
   "cell_type": "markdown",
   "metadata": {},
   "source": [
    "## Evaluation"
   ]
  },
  {
   "cell_type": "code",
   "execution_count": 9,
   "metadata": {},
   "outputs": [
    {
     "data": {
      "image/png": "[encoded data removed]",
      "text/plain": [
       "<Figure size 432x288 with 1 Axes>"
      ]
     },
     "metadata": {
      "needs_background": "light"
     },
     "output_type": "display_data"
    }
   ],
   "source": [
    "plot_pca(df_encoded, cluster_labels, cluster_nr)"
   ]
  },
  {
   "cell_type": "code",
   "execution_count": 327,
   "metadata": {},
   "outputs": [
    {
     "name": "stdout",
     "output_type": "stream",
     "text": [
      "Silhouette Coefficient KMeans:  0.734592083297963\n"
     ]
    }
   ],
   "source": [
    "print(\"Silhouette Coefficient KMeans: \", metrics.silhouette_score(df_encoded, cluster_labels))\n",
    "print(\"Completeness KMeans: \", metrics.completness_score(df['case:id'], cluster_labels))"
   ]
  },
  {
   "cell_type": "code",
   "execution_count": 12,
   "metadata": {},
   "outputs": [],
   "source": [
    "df['cluster_label'] = cluster_labels"
   ]
  },
  {
   "cell_type": "markdown",
   "metadata": {},
   "source": [
    "## Check cluster labels \"manually\""
   ]
  },
  {
   "cell_type": "code",
   "execution_count": null,
   "metadata": {},
   "outputs": [],
   "source": [
    "#eval_manually = df_km.groupby('cluster_label')['activityNameEN'].apply(set)"
   ]
  },
  {
   "cell_type": "code",
   "execution_count": null,
   "metadata": {},
   "outputs": [],
   "source": [
    "# group by cluster label and aggregate concept:name\n",
    "eval_manually = df_hier.groupby('cluster_label')['concept:name'].apply(set)"
   ]
  },
  {
   "cell_type": "code",
   "execution_count": null,
   "metadata": {},
   "outputs": [],
   "source": [
    "pd.set_option('display.max_colwidth', -1)\n",
    "eval_manually"
   ]
  },
  {
   "cell_type": "markdown",
   "metadata": {},
   "source": [
    "## Replace events with cluster representative"
   ]
  },
  {
   "cell_type": "code",
   "execution_count": null,
   "metadata": {},
   "outputs": [],
   "source": [
    "# overwrite activityNameEN with mapped cluster representative\n",
    "#abstracted_df = replace_with_representative(df_km, \"activityNameEN\", \"cluster_label\", original_df_columns)\n",
    "#abstracted_df.head(5)"
   ]
  },
  {
   "cell_type": "code",
   "execution_count": null,
   "metadata": {},
   "outputs": [],
   "source": [
    "# overwrite concept:name with mapped cluster representative\n",
    "abstracted_df = replace_with_representative(df_hier, \"concept:name\", \"cluster_label\", original_df_columns)\n",
    "abstracted_df.head(5)"
   ]
  },
  {
   "cell_type": "code",
   "execution_count": null,
   "metadata": {},
   "outputs": [],
   "source": [
    "# write abstracted dataframe as csv file\n",
    "csv_filename = \"data/abs_km_bpic15.csv\"\n",
    "write_to_csv(abstracted_df, csv_filename, index=False)"
   ]
  },
  {
   "cell_type": "markdown",
   "metadata": {},
   "source": [
    "# Compare Process Models from Original Dataset to Abstracted Dataset"
   ]
  },
  {
   "cell_type": "code",
   "execution_count": null,
   "metadata": {},
   "outputs": [],
   "source": [
    "# read original and abstracted dataset as event logs\n",
    "filepath_original = \"data/BPIC15_1.xes\"\n",
    "filepath_abstracted = csv_filename\n",
    "\n",
    "original_log = read_as_log_xes(filepath_original)\n",
    "abstracted_log = read_as_log_csv(filepath_abstracted)\n",
    "\n",
    "print(\"Original Log:\")\n",
    "print(original_log)\n",
    "print(\"\\nAbstracted Log:\")\n",
    "print(abstracted_log)"
   ]
  },
  {
   "cell_type": "markdown",
   "metadata": {},
   "source": [
    "## Mining Algorithms\n",
    "* Alpha Miner\n",
    "* Inductive Miner\n",
    "* Heuristic Miner\n",
    "* Directly-Follows Graph"
   ]
  },
  {
   "cell_type": "code",
   "execution_count": null,
   "metadata": {},
   "outputs": [],
   "source": [
    "# Alpha Miner\n",
    "net_alpha_orig, im_alpha_orig, fm_alpha_orig = a_miner(original_log)\n",
    "net_alpha, im_alpha, fm_alpha = a_miner(abstracted_log)"
   ]
  },
  {
   "cell_type": "code",
   "execution_count": null,
   "metadata": {},
   "outputs": [],
   "source": [
    "# Inductive Miner\n",
    "net_ind_orig, im_ind_orig, fm_ind_orig = ind_miner(original_log)\n",
    "net_ind, im_ind, fm_ind = ind_miner(abstracted_log)"
   ]
  },
  {
   "cell_type": "code",
   "execution_count": null,
   "metadata": {},
   "outputs": [],
   "source": [
    "# Heuristic Miner\n",
    "net_heu_orig, im_heu_orig, fm_heu_orig = heu_miner(original_log)\n",
    "net_heu, im_heu, fm_heu = heu_miner(abstracted_log)"
   ]
  },
  {
   "cell_type": "code",
   "execution_count": null,
   "metadata": {},
   "outputs": [],
   "source": [
    "# Directly-Follows Graph\n",
    "dfg_miner(original_log)\n",
    "dfg_miner(abstracted_log)"
   ]
  },
  {
   "cell_type": "markdown",
   "metadata": {},
   "source": [
    "## Process Model Metrics\n",
    "* Fitness\n",
    "* Precision\n",
    "* Generalization\n",
    "* Simplicity"
   ]
  },
  {
   "cell_type": "code",
   "execution_count": null,
   "metadata": {},
   "outputs": [],
   "source": [
    "# Evaluation --> all four metrices in one line\n",
    "print(\"Original Log with Heuristic Miner:\")\n",
    "evaluation_metric(original_log, net_heu_orig, im_heu_orig, fm_heu_orig)\n",
    "\n",
    "print(\"\\nAbstracted Log with Heuristic Miner\")\n",
    "evaluation_metric(abstracted_log, net_heu, im_heu, fm_heu)"
   ]
  },
  {
   "cell_type": "code",
   "execution_count": null,
   "metadata": {},
   "outputs": [],
   "source": [
    "print(\"Original Log with Inductive Miner:\")\n",
    "evaluation_metric(original_log, net_ind_orig, im_ind_orig, fm_ind_orig )\n",
    "\n",
    "print(\"\\nAbstracted Log with Inductive Miner\")\n",
    "evaluation_metric(abstracted_log, net_ind, im_ind, fm_ind)"
   ]
  },
  {
   "cell_type": "code",
   "execution_count": null,
   "metadata": {},
   "outputs": [],
   "source": [
    "# Fitness\n",
    "print(\"Original Log with Heuristic Miner:\")\n",
    "fitness_metric(original_log, net_heu_orig, im_heu_orig, fm_heu_orig)\n",
    "\n",
    "print(\"\\nAbstracted Log with Heuristic Miner\")\n",
    "fitness_metric(abstracted_log, net_heu, im_heu, fm_heu)"
   ]
  },
  {
   "cell_type": "code",
   "execution_count": null,
   "metadata": {},
   "outputs": [],
   "source": [
    "# Precision\n",
    "print(\"Original Log with Heuristic Miner:\")\n",
    "precision_metric(original_log, net_heu_orig, im_heu_orig, fm_heu_orig)\n",
    "\n",
    "print(\"\\nAbstracted Log with Heuristic Miner\")\n",
    "precision_metric(abstracted_log, net_heu, im_heu, fm_heu)"
   ]
  },
  {
   "cell_type": "code",
   "execution_count": null,
   "metadata": {},
   "outputs": [],
   "source": [
    "# Generalization\n",
    "print(\"Original Log with Heuristic Miner:\")\n",
    "generalization_metric(original_log, net_heu_orig, im_heu_orig, fm_heu_orig)\n",
    "\n",
    "print(\"\\nAbstracted Log with Heuristic Miner\")\n",
    "generalization_metric(abstracted_log, net_heu, im_heu, fm_heu)"
   ]
  },
  {
   "cell_type": "code",
   "execution_count": null,
   "metadata": {},
   "outputs": [],
   "source": [
    "# Simplicity\n",
    "print(\"Original Log with Heuristic Miner:\")\n",
    "simplicity_metric(original_log, net_heu_orig, im_heu_orig, fm_heu_orig)\n",
    "\n",
    "print(\"\\nAbstracted Log with Heuristic Miner\")\n",
    "simplicity_metric(abstracted_log, net_heu, im_heu, fm_heu)"
   ]
  }
 ],
 "metadata": {
  "kernelspec": {
   "display_name": "Python 3",
   "language": "python",
   "name": "python3"
  },
  "language_info": {
   "codemirror_mode": {
    "name": "ipython",
    "version": 3
   },
   "file_extension": ".py",
   "mimetype": "text/x-python",
   "name": "python",
   "nbconvert_exporter": "python",
   "pygments_lexer": "ipython3",
   "version": "3.7.3"
  }
 },
 "nbformat": 4,
 "nbformat_minor": 2
}
